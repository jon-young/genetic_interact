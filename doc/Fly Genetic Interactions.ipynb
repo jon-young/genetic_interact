{
 "cells": [
  {
   "cell_type": "code",
   "execution_count": 1,
   "metadata": {
    "collapsed": true
   },
   "outputs": [],
   "source": [
    "import matplotlib"
   ]
  },
  {
   "cell_type": "code",
   "execution_count": 2,
   "metadata": {
    "collapsed": true
   },
   "outputs": [],
   "source": [
    "matplotlib.use('Agg')"
   ]
  },
  {
   "cell_type": "code",
   "execution_count": 3,
   "metadata": {
    "collapsed": true
   },
   "outputs": [],
   "source": [
    "%matplotlib inline"
   ]
  },
  {
   "cell_type": "code",
   "execution_count": 4,
   "metadata": {
    "collapsed": true
   },
   "outputs": [],
   "source": [
    "import matplotlib.pyplot as plt"
   ]
  },
  {
   "cell_type": "code",
   "execution_count": 5,
   "metadata": {
    "collapsed": false
   },
   "outputs": [],
   "source": [
    "import bisect"
   ]
  },
  {
   "cell_type": "code",
   "execution_count": 6,
   "metadata": {
    "collapsed": false
   },
   "outputs": [],
   "source": [
    "import itertools"
   ]
  },
  {
   "cell_type": "code",
   "execution_count": 7,
   "metadata": {
    "collapsed": false
   },
   "outputs": [],
   "source": [
    "import numpy"
   ]
  },
  {
   "cell_type": "code",
   "execution_count": 8,
   "metadata": {
    "collapsed": false
   },
   "outputs": [],
   "source": [
    "import os"
   ]
  },
  {
   "cell_type": "code",
   "execution_count": 9,
   "metadata": {
    "collapsed": false
   },
   "outputs": [],
   "source": [
    "import pickle"
   ]
  },
  {
   "cell_type": "markdown",
   "metadata": {},
   "source": [
    "---"
   ]
  },
  {
   "cell_type": "markdown",
   "metadata": {},
   "source": [
    "# Extracting Genetic Interactions from BIOGRID"
   ]
  },
  {
   "cell_type": "markdown",
   "metadata": {},
   "source": [
    "**2015 May 13-14**\n",
    "\n",
    "Downloaded *BIOGRID-ORGANISM-3.3.124.tab2.zip.*\n",
    "\n",
    "**2015 August 4**\n",
    "\n",
    "Using *BIOGRID-ORGANISM-3.4.127.tab2*."
   ]
  },
  {
   "cell_type": "markdown",
   "metadata": {},
   "source": [
    "Header line looks like:"
   ]
  },
  {
   "cell_type": "code",
   "execution_count": 1,
   "metadata": {
    "collapsed": false
   },
   "outputs": [
    {
     "name": "stdout",
     "output_type": "stream",
     "text": [
      "#BioGRID Interaction ID\tEntrez Gene Interactor A\tEntrez Gene Interactor B\tBioGRID ID Interactor A\tBioGRID ID Interactor B\tSystematic Name Interactor A\tSystematic Name Interactor B\tOfficial Symbol Interactor A\tOfficial Symbol Interactor B\tSynonyms Interactor A\tSynonyms Interactor B\tExperimental System\tExperimental System Type\tAuthor\tPubmed ID\tOrganism Interactor A\tOrganism Interactor B\tThroughput\tScore\tModification\tPhenotypes\tQualifications\tTags\tSource Database\n"
     ]
    }
   ],
   "source": [
    "%%bash\n",
    "head -1 /work/jyoung/DataDownload/BIOGRID/BIOGRID-ORGANISM-3.3.124.tab2/BIOGRID-ORGANISM-Drosophila_melanogaster-3.3.124.tab2.txt"
   ]
  },
  {
   "cell_type": "markdown",
   "metadata": {},
   "source": [
    "Data lines look like:"
   ]
  },
  {
   "cell_type": "code",
   "execution_count": 2,
   "metadata": {
    "collapsed": false
   },
   "outputs": [
    {
     "name": "stdout",
     "output_type": "stream",
     "text": [
      "30772\t43383\t37006\t68259\t62692\tDmel_CG10002\tDmel_CG6459\tfkh\tP32\tCG10002|DmelCG10002|Dmfkh|Sebp2|dFoxA\tCG 6459|CG6459|DmelCG6459|dp32\tTwo-hybrid\tphysical\tGiot L (2003)\t14605208\t7227\t7227\tHigh Throughput\t-\t-\t-\t-\t-\tBIOGRID\n"
     ]
    }
   ],
   "source": [
    "%%bash\n",
    "head -2 /work/jyoung/DataDownload/BIOGRID/BIOGRID-ORGANISM-3.3.124.tab2/BIOGRID-ORGANISM-Drosophila_melanogaster-3.3.124.tab2.txt | tail -1"
   ]
  },
  {
   "cell_type": "markdown",
   "metadata": {},
   "source": [
    "Filter lines that have \"Experimental System Type\" as \"genetic\":"
   ]
  },
  {
   "cell_type": "code",
   "execution_count": 1,
   "metadata": {
    "collapsed": false
   },
   "outputs": [],
   "source": [
    "readPath = (\"/work/jyoung/DataDownload/BIOGRID/BIOGRID-ORGANISM-3.4.127.tab2/\"\n",
    "            \"BIOGRID-ORGANISM-Drosophila_melanogaster-3.4.127.tab2.txt\")"
   ]
  },
  {
   "cell_type": "code",
   "execution_count": 7,
   "metadata": {
    "collapsed": false
   },
   "outputs": [],
   "source": [
    "writePath = '/work/jyoung/genetic_interact/data/BIOGRID-3.4.127-fly.txt'"
   ]
  },
  {
   "cell_type": "code",
   "execution_count": 8,
   "metadata": {
    "collapsed": false
   },
   "outputs": [],
   "source": [
    "colNum = open(readPath).readline().strip().split('\\t').index('Experimental System Type')"
   ]
  },
  {
   "cell_type": "code",
   "execution_count": 9,
   "metadata": {
    "collapsed": false
   },
   "outputs": [],
   "source": [
    "with open(writePath, 'w') as fid:\n",
    "    fid.writelines([line for line in open(readPath) if line.split('\\t')[colNum] == 'genetic'])"
   ]
  },
  {
   "cell_type": "code",
   "execution_count": 10,
   "metadata": {
    "collapsed": false
   },
   "outputs": [
    {
     "name": "stdout",
     "output_type": "stream",
     "text": [
      "9978 /work/jyoung/genetic_interact/data/BIOGRID-3.4.127-fly.txt\n"
     ]
    }
   ],
   "source": [
    "%%bash\n",
    "wc -l /work/jyoung/genetic_interact/data/BIOGRID-3.4.127-fly.txt"
   ]
  },
  {
   "cell_type": "markdown",
   "metadata": {},
   "source": [
    "## Breakdown of experimental evidence codes"
   ]
  },
  {
   "cell_type": "markdown",
   "metadata": {},
   "source": [
    "**2015 June 10**\n",
    "\n",
    "Using *BIOGRID-ORGANISM-3.3.124.tab2*.\n",
    "\n",
    "**2015 August 4**\n",
    "\n",
    "Using *BIOGRID-ORGANISM-3.4.127.tab2*. "
   ]
  },
  {
   "cell_type": "code",
   "execution_count": 11,
   "metadata": {
    "collapsed": false
   },
   "outputs": [],
   "source": [
    "os.chdir('/work/jyoung/genetic_interact/data')"
   ]
  },
  {
   "cell_type": "code",
   "execution_count": 12,
   "metadata": {
    "collapsed": false
   },
   "outputs": [],
   "source": [
    "catg = dict()\n",
    "genes = set()\n",
    "for line in open('BIOGRID-3.4.127-fly.txt'):\n",
    "    tokens = line.split('\\t')\n",
    "    genes.update(tokens[1:3])\n",
    "    catg[tokens[11]] = catg.get(tokens[11], 0) + 1"
   ]
  },
  {
   "cell_type": "code",
   "execution_count": 13,
   "metadata": {
    "collapsed": false
   },
   "outputs": [
    {
     "data": {
      "text/plain": [
       "1039"
      ]
     },
     "execution_count": 13,
     "metadata": {},
     "output_type": "execute_result"
    }
   ],
   "source": [
    "len(genes)"
   ]
  },
  {
   "cell_type": "code",
   "execution_count": 14,
   "metadata": {
    "collapsed": false
   },
   "outputs": [
    {
     "data": {
      "text/plain": [
       "{'Dosage Rescue': 9,\n",
       " 'Negative Genetic': 1,\n",
       " 'Phenotypic Enhancement': 4334,\n",
       " 'Phenotypic Suppression': 5608,\n",
       " 'Synthetic Growth Defect': 3,\n",
       " 'Synthetic Haploinsufficiency': 2,\n",
       " 'Synthetic Lethality': 2,\n",
       " 'Synthetic Rescue': 19}"
      ]
     },
     "execution_count": 14,
     "metadata": {},
     "output_type": "execute_result"
    }
   ],
   "source": [
    "catg"
   ]
  },
  {
   "cell_type": "markdown",
   "metadata": {},
   "source": [
    "---"
   ]
  },
  {
   "cell_type": "markdown",
   "metadata": {},
   "source": [
    "# FlyNet"
   ]
  },
  {
   "cell_type": "markdown",
   "metadata": {},
   "source": [
    "**2015 May 13-15**\n",
    "\n",
    "Downloaded [FlyNet](http://www.inetbio.org/flynet/downloadnetwork.php)."
   ]
  },
  {
   "cell_type": "code",
   "execution_count": 10,
   "metadata": {
    "collapsed": false
   },
   "outputs": [
    {
     "name": "stdout",
     "output_type": "stream",
     "text": [
      "FBgn0000588\tFBgn0000629\t5.9845282658116\n",
      "FBgn0004406\tFBgn0004407\t5.98385558064729\n",
      "FBgn0039907\tFBgn0043900\t5.97562686691344\n",
      "FBgn0000352\tFBgn0001079\t5.96739494043322\n",
      "FBgn0000499\tFBgn0002945\t5.96444550034175\n"
     ]
    }
   ],
   "source": [
    "%%bash\n",
    "head -5 /work/jyoung/DataDownload/FunctionalNet/FlyNet.txt"
   ]
  },
  {
   "cell_type": "markdown",
   "metadata": {},
   "source": [
    "So FlyNet uses FlyBase IDs. These will be converted to Entrez IDs for use with the BIOGRID genetic interactions. Note that the FlyBase conversion tool doens't actually convert to Entrez IDs. DAVID seems to only recognize 12138 of the FlyBase IDs. BioMart only \"advises\" conversion of 500 IDs at a time. \n",
    "\n",
    "Using the R Bioconductor library *org.Dm.eg.db*, an R script *convert_flynet_entrez.R* was written to convert the FlyBase IDs in FlyNet to Entrez IDs. Not all IDs were able to be converted; the FlyBase IDs without a conversion are labeled NULL. The output file is *FlyNetEntrez.txt*. "
   ]
  },
  {
   "cell_type": "markdown",
   "metadata": {},
   "source": [
    "**2015 June 11**\n",
    "\n",
    "Create a new file, *FlyNetEntrez-noNull.txt*, that has any line with NULL entries removed. "
   ]
  },
  {
   "cell_type": "code",
   "execution_count": 5,
   "metadata": {
    "collapsed": false
   },
   "outputs": [],
   "source": [
    "%%bash\n",
    "sed '/NULL/d' FlyNetEntrez.txt > FlyNetEntrez-noNull.txt"
   ]
  },
  {
   "cell_type": "markdown",
   "metadata": {},
   "source": [
    "---"
   ]
  },
  {
   "cell_type": "markdown",
   "metadata": {},
   "source": [
    "# Predictability of Each BIOGRID Interaction Type"
   ]
  },
  {
   "cell_type": "markdown",
   "metadata": {},
   "source": [
    "**2015 June 11**\n",
    "\n",
    "Using *BIOGRID-ORGANISM-3.3.124.tab2*.\n",
    "\n",
    "**2015 August 4**\n",
    "\n",
    "Using *BIOGRID-ORGANISM-3.4.127.tab2*. \n",
    "\n",
    "**2015 August 4-7**\n",
    "\n",
    "Major updates to *func_net_pred.py*. It no longer requires working only with Entrez IDs. The *get_entrez_indices( )* function has been replaced with the *assign_gene_indices( )* function. Sorting of gene IDs still occurs so that every time the script is run, the indices of the adjacency matrix always correspond to the same gene IDs. The *write_seeds_text( )* function no longer does a gene ID conversion. The *main( )* function contains a flag variable that indicates whether or not any conversion needs to be done. Note that the conversion should be based from the functional network; that is, the conversion dictionary should be built from converting the genes in the network. \n",
    "\n",
    "The updated version of *func_net_pred.py* was tested to ensure that it produces the same plots and seed set text output as before.\n",
    "\n",
    "In an ideal scenario, the functional network and the BIOGRID file use the same gene IDs. If not, then convert to Entrez, as it seems to have less ambiguity than either official symbols or systematic name. For example, the R conversion has names such as \"CG6646 gene product from transcript CG6646-RA\", while BIOGRID simply uses \"CG6646\". "
   ]
  },
  {
   "cell_type": "code",
   "execution_count": 10,
   "metadata": {
    "collapsed": false
   },
   "outputs": [],
   "source": [
    "os.chdir('/work/jyoung/genetic_interact/src')"
   ]
  },
  {
   "cell_type": "code",
   "execution_count": 13,
   "metadata": {
    "collapsed": false
   },
   "outputs": [
    {
     "name": "stdout",
     "output_type": "stream",
     "text": [
      "Number of genes in functional network: 13052\n",
      "Number of genes in interactions: 14\n",
      "Number of seed sets: 14\n"
     ]
    },
    {
     "data": {
      "image/png": "[encoded data removed]",
      "text/plain": [
       "<matplotlib.figure.Figure at 0x7f1dce4308d0>"
      ]
     },
     "metadata": {},
     "output_type": "display_data"
    }
   ],
   "source": [
    "%run func_net_pred 'Dosage Rescue'"
   ]
  },
  {
   "cell_type": "code",
   "execution_count": 14,
   "metadata": {
    "collapsed": false
   },
   "outputs": [
    {
     "name": "stdout",
     "output_type": "stream",
     "text": [
      "Number of genes in functional network: 13052\n",
      "Number of genes in interactions: 3\n",
      "Number of seed sets: 3\n"
     ]
    },
    {
     "data": {
      "image/png": "[encoded data removed]",
      "text/plain": [
       "<matplotlib.figure.Figure at 0x7f1dcc2beeb8>"
      ]
     },
     "metadata": {},
     "output_type": "display_data"
    }
   ],
   "source": [
    "%run func_net_pred 'Synthetic Haploinsufficiency'"
   ]
  },
  {
   "cell_type": "code",
   "execution_count": 15,
   "metadata": {
    "collapsed": false
   },
   "outputs": [
    {
     "name": "stdout",
     "output_type": "stream",
     "text": [
      "Number of genes in functional network: 13052\n",
      "Number of genes in interactions: 755\n",
      "Number of seed sets: 742\n"
     ]
    },
    {
     "data": {
      "image/png": "[encoded data removed]",
      "text/plain": [
       "<matplotlib.figure.Figure at 0x7f1dcc10def0>"
      ]
     },
     "metadata": {},
     "output_type": "display_data"
    }
   ],
   "source": [
    "%run func_net_pred 'Phenotypic Enhancement'"
   ]
  },
  {
   "cell_type": "code",
   "execution_count": 16,
   "metadata": {
    "collapsed": false
   },
   "outputs": [
    {
     "name": "stdout",
     "output_type": "stream",
     "text": [
      "Number of genes in functional network: 13052\n",
      "Number of genes in interactions: 820\n",
      "Number of seed sets: 808\n"
     ]
    },
    {
     "data": {
      "image/png": "[encoded data removed]",
      "text/plain": [
       "<matplotlib.figure.Figure at 0x7f1dcf383160>"
      ]
     },
     "metadata": {},
     "output_type": "display_data"
    }
   ],
   "source": [
    "%run func_net_pred 'Phenotypic Suppression'"
   ]
  },
  {
   "cell_type": "code",
   "execution_count": 17,
   "metadata": {
    "collapsed": false
   },
   "outputs": [
    {
     "name": "stdout",
     "output_type": "stream",
     "text": [
      "Number of genes in functional network: 13052\n",
      "Number of genes in interactions: 2\n",
      "Number of seed sets: 2\n"
     ]
    },
    {
     "data": {
      "image/png": "[encoded data removed]",
      "text/plain": [
       "<matplotlib.figure.Figure at 0x7f1dd04b5710>"
      ]
     },
     "metadata": {},
     "output_type": "display_data"
    }
   ],
   "source": [
    "%run func_net_pred 'Negative Genetic'"
   ]
  },
  {
   "cell_type": "code",
   "execution_count": 18,
   "metadata": {
    "collapsed": false
   },
   "outputs": [
    {
     "name": "stdout",
     "output_type": "stream",
     "text": [
      "Number of genes in functional network: 13052\n",
      "Number of genes in interactions: 26\n",
      "Number of seed sets: 26\n"
     ]
    },
    {
     "data": {
      "image/png": "[encoded data removed]",
      "text/plain": [
       "<matplotlib.figure.Figure at 0x7f1dcf56dcc0>"
      ]
     },
     "metadata": {},
     "output_type": "display_data"
    }
   ],
   "source": [
    "%run func_net_pred 'Synthetic Rescue'"
   ]
  },
  {
   "cell_type": "code",
   "execution_count": 19,
   "metadata": {
    "collapsed": false
   },
   "outputs": [
    {
     "name": "stdout",
     "output_type": "stream",
     "text": [
      "Number of genes in functional network: 13052\n",
      "Number of genes in interactions: 5\n",
      "Number of seed sets: 5\n"
     ]
    },
    {
     "data": {
      "image/png": "[encoded data removed]",
      "text/plain": [
       "<matplotlib.figure.Figure at 0x7f1dce853eb8>"
      ]
     },
     "metadata": {},
     "output_type": "display_data"
    }
   ],
   "source": [
    "%run func_net_pred 'Synthetic Growth Defect'"
   ]
  },
  {
   "cell_type": "code",
   "execution_count": 20,
   "metadata": {
    "collapsed": false
   },
   "outputs": [
    {
     "name": "stdout",
     "output_type": "stream",
     "text": [
      "Number of genes in functional network: 13052\n",
      "Number of genes in interactions: 4\n",
      "Number of seed sets: 4\n"
     ]
    },
    {
     "data": {
      "image/png": "[encoded data removed]",
      "text/plain": [
       "<matplotlib.figure.Figure at 0x7f1dcdd3ef28>"
      ]
     },
     "metadata": {},
     "output_type": "display_data"
    }
   ],
   "source": [
    "%run func_net_pred 'Synthetic Lethality'"
   ]
  },
  {
   "cell_type": "markdown",
   "metadata": {},
   "source": [
    "---"
   ]
  },
  {
   "cell_type": "markdown",
   "metadata": {},
   "source": [
    "# Output Gene Names in Predictable Seed Sets"
   ]
  },
  {
   "cell_type": "markdown",
   "metadata": {},
   "source": [
    "**2015 July 2-3**\n",
    "\n",
    "To examine the predictable seed sets (those having high AUC), write out the gene names of the seeds and their interactors. The fly Entrez IDs will need to be converted to fly gene names. Use the R Bioconductor library *org.Dm.eg.db* to output a conversion table to text, which can be read and stored in Python. \n",
    "\n",
    "    > library(\"org.Dm.eg.db\")\n",
    "    > entrezIDs <- ls(org.Dm.egGENENAME)\n",
    "    > length(entrezIDs)\n",
    "    [1] 24620\n",
    "    > entrezIDs[1:5]\n",
    "    [1] \"30970\" \"30971\" \"30972\" \"30973\" \"30975\"\n",
    "    > head(toTable(org.Dm.egGENENAME[entrezIDs]))\n",
    "      gene_id                                       gene_name\n",
    "    1   30970   CG3038 gene product from transcript CG3038-RC\n",
    "    2   30971   CG2995 gene product from transcript CG2995-RB\n",
    "    3   30972 CG13377 gene product from transcript CG13377-RB\n",
    "    4   30973                                        cinnamon\n",
    "    5   30975                                      erect wing\n",
    "    6   30976 CG13375 gene product from transcript CG13375-RB\n",
    "    > conversTab <- toTable(org.Dm.egGENENAME[entrezIDs])\n",
    "    > write.table(conversTab, file=\"/work/jyoung/DataProcessed/org.Dm.egGENENAME.txt\",\n",
    "                  quote=FALSE, sep=\"\\t\", row.names=FALSE)\n",
    "\n",
    "Next, verify that the table has unique gene IDs and read this conversion table into a Python dictionary. "
   ]
  },
  {
   "cell_type": "code",
   "execution_count": 2,
   "metadata": {
    "collapsed": false
   },
   "outputs": [
    {
     "name": "stdout",
     "output_type": "stream",
     "text": [
      "gene_id\tgene_name\n",
      "30970\tCG3038 gene product from transcript CG3038-RC\n",
      "30971\tCG2995 gene product from transcript CG2995-RB\n",
      "30972\tCG13377 gene product from transcript CG13377-RB\n"
     ]
    }
   ],
   "source": [
    "%%bash\n",
    "head -4 /work/jyoung/DataProcessed/org.Dm.egGENENAME.txt"
   ]
  },
  {
   "cell_type": "code",
   "execution_count": 1,
   "metadata": {
    "collapsed": false
   },
   "outputs": [
    {
     "name": "stdout",
     "output_type": "stream",
     "text": [
      "24621\n"
     ]
    }
   ],
   "source": [
    "%%bash\n",
    "cut -f1 /work/jyoung/DataProcessed/org.Dm.egGENENAME.txt | sort | uniq | wc -l"
   ]
  },
  {
   "cell_type": "code",
   "execution_count": 4,
   "metadata": {
    "collapsed": false
   },
   "outputs": [],
   "source": [
    "entrez2name = dict()\n",
    "fid = open('/work/jyoung/DataProcessed/org.Dm.egGENENAME.txt')\n",
    "header = fid.readline()\n",
    "for line in fid:\n",
    "    tokens = line.strip().split('\\t')\n",
    "    entrez2name[tokens[0]] = tokens[1]\n",
    "fid.close()"
   ]
  },
  {
   "cell_type": "markdown",
   "metadata": {},
   "source": [
    "Now check whether all of the Entrez IDs in FlyNet are included in the conversion dictionary."
   ]
  },
  {
   "cell_type": "code",
   "execution_count": 8,
   "metadata": {
    "collapsed": false
   },
   "outputs": [],
   "source": [
    "allNetEntrez = set()\n",
    "for line in open('../data/FlyNetEntrez-noNull.txt'):\n",
    "    allNetEntrez.update(line.split('\\t')[:2])"
   ]
  },
  {
   "cell_type": "code",
   "execution_count": 9,
   "metadata": {
    "collapsed": false
   },
   "outputs": [
    {
     "data": {
      "text/plain": [
       "13052"
      ]
     },
     "execution_count": 9,
     "metadata": {},
     "output_type": "execute_result"
    }
   ],
   "source": [
    "len(allNetEntrez)"
   ]
  },
  {
   "cell_type": "code",
   "execution_count": 10,
   "metadata": {
    "collapsed": false
   },
   "outputs": [
    {
     "data": {
      "text/plain": [
       "0"
      ]
     },
     "execution_count": 10,
     "metadata": {},
     "output_type": "execute_result"
    }
   ],
   "source": [
    "len(allNetEntrez - set(entrez2name.keys()))"
   ]
  },
  {
   "cell_type": "code",
   "execution_count": 12,
   "metadata": {
    "collapsed": false
   },
   "outputs": [],
   "source": [
    "pickle.dump(entrez2name, open('/work/jyoung/PyPickle/flyentrez2names.p', 'wb'))"
   ]
  },
  {
   "cell_type": "markdown",
   "metadata": {},
   "source": [
    "Modifications to the *write_seeds_text( )* function (which was originally from *pred_from_huNet_v2.py*):\n",
    "- changed the number of seed sets written to be based on AUC score instead of an arbitrary numerical cutoff\n",
    "- changed the filepath for Entrez-to-name conversion from */work/jyoung/PyPickle/entrez2names.p* to *flyentrez2names.p*\n",
    "- *entrez2names* converts an Entrez ID to its multiple gene names, the 1st of which is commonly used. On the other hand, *flyentrez2names* converts a single Entrez ID to a single gene name. Therefore, any *entrez2names[ ][0]* code is changed to *entrez2names[ ]*."
   ]
  },
  {
   "cell_type": "markdown",
   "metadata": {},
   "source": [
    "Writing out seed sets for Phenotypic Enhancement (using v3.4.127 on 2015-08-04):"
   ]
  },
  {
   "cell_type": "code",
   "execution_count": 22,
   "metadata": {
    "collapsed": false
   },
   "outputs": [
    {
     "name": "stdout",
     "output_type": "stream",
     "text": [
      "Number of genes in functional network: 13052\n",
      "Number of genes in interactions: 755\n",
      "Number of seed sets: 742\n"
     ]
    }
   ],
   "source": [
    "%run func_net_pred 'Phenotypic Enhancement'"
   ]
  },
  {
   "cell_type": "code",
   "execution_count": 23,
   "metadata": {
    "collapsed": false
   },
   "outputs": [
    {
     "name": "stdout",
     "output_type": "stream",
     "text": [
      "Number of genes in functional network: 13052\n",
      "Number of genes in interactions: 820\n",
      "Number of seed sets: 808\n"
     ]
    }
   ],
   "source": [
    "%run func_net_pred 'Phenotypic Suppression'"
   ]
  },
  {
   "cell_type": "code",
   "execution_count": 24,
   "metadata": {
    "collapsed": false
   },
   "outputs": [
    {
     "name": "stdout",
     "output_type": "stream",
     "text": [
      "Number of genes in functional network: 13052\n",
      "Number of genes in interactions: 26\n",
      "Number of seed sets: 26\n"
     ]
    }
   ],
   "source": [
    "%run func_net_pred 'Synthetic Rescue'"
   ]
  },
  {
   "cell_type": "code",
   "execution_count": 25,
   "metadata": {
    "collapsed": false
   },
   "outputs": [
    {
     "name": "stdout",
     "output_type": "stream",
     "text": [
      "Number of genes in functional network: 13052\n",
      "Number of genes in interactions: 5\n",
      "Number of seed sets: 5\n"
     ]
    }
   ],
   "source": [
    "%run func_net_pred 'Synthetic Growth Defect'"
   ]
  },
  {
   "cell_type": "markdown",
   "metadata": {},
   "source": [
    "---"
   ]
  },
  {
   "cell_type": "markdown",
   "metadata": {},
   "source": [
    "# Cytoscape Network Visualization"
   ]
  },
  {
   "cell_type": "markdown",
   "metadata": {},
   "source": [
    "**2015 July 6**\n",
    "\n",
    "To visualize the predictive seed sets in Cytoscape, write out the interacting genes in SIF format. The plan is to use the ClueGO app, which accepts gene IDs. So the text file with the seed sets will not only need to be re-written in SIF format, but with Entrez IDs. "
   ]
  },
  {
   "cell_type": "code",
   "execution_count": 6,
   "metadata": {
    "collapsed": false
   },
   "outputs": [],
   "source": [
    "os.chdir('/work/jyoung/genetic_interact/src')"
   ]
  },
  {
   "cell_type": "code",
   "execution_count": 7,
   "metadata": {
    "collapsed": false
   },
   "outputs": [],
   "source": [
    "import func_net_pred"
   ]
  },
  {
   "cell_type": "code",
   "execution_count": 8,
   "metadata": {
    "collapsed": false
   },
   "outputs": [],
   "source": [
    "experimentSys = 'Phenotypic Enhancement'"
   ]
  },
  {
   "cell_type": "code",
   "execution_count": 10,
   "metadata": {
    "collapsed": false
   },
   "outputs": [
    {
     "name": "stdout",
     "output_type": "stream",
     "text": [
      "Number of genes in interactions: 755\n"
     ]
    }
   ],
   "source": [
    "# copied from main()\n",
    "node2edgewt = func_net_pred.process_func_net()\n",
    "entrez2idx = func_net_pred.get_entrez_indices(node2edgewt)\n",
    "adjMat = numpy.load('../data/FlyNet_adj_matrix.npy')\n",
    "seedSets = func_net_pred.read_biogrid(experimentSys)\n",
    "seedAUC, seed2interactors = func_net_pred.seed_set_predictability(entrez2idx, adjMat, seedSets)"
   ]
  },
  {
   "cell_type": "code",
   "execution_count": 15,
   "metadata": {
    "collapsed": false
   },
   "outputs": [],
   "source": [
    "def write_sif(seed2interactors, seedAUC, writeFilename):\n",
    "    \"\"\"\n",
    "    Adapted from write_seed_sets(). Writes seed sets into SIF format for input \n",
    "    into Cytoscape. 'gi' is genetic interaction for the <relationship type> \n",
    "    ARGUMENTS:\n",
    "        1.) <dict> {seed Entrez in func net: {interactors' Entrez in func net}}\n",
    "        2.) <list> [(seed AUC seed Entrez)]\n",
    "        3.) <string> output filename\n",
    "    \"\"\"\n",
    "    AUCcutoff = 0.9\n",
    "    aucs = [v[0] for v in seedAUC]\n",
    "    cutIndex = len(aucs) - bisect.bisect_left(aucs, AUCcutoff)\n",
    "    writeFile = open(writeFilename, 'w')\n",
    "    for i in range(1, cutIndex+1):\n",
    "        intactEntrez = list(seed2interactors[seedAUC[-i][1]])\n",
    "        if len(intactEntrez) > 1:\n",
    "            writeFile.write(seedAUC[-i][1] + '\\tgi\\t' + '\\t'.join(intactEntrez) + '\\n')\n",
    "    writeFile.close()"
   ]
  },
  {
   "cell_type": "code",
   "execution_count": 12,
   "metadata": {
    "collapsed": false
   },
   "outputs": [],
   "source": [
    "os.chdir('/work/jyoung/genetic_interact/results')"
   ]
  },
  {
   "cell_type": "code",
   "execution_count": 16,
   "metadata": {
    "collapsed": false
   },
   "outputs": [],
   "source": [
    "write_sif(seed2interactors, seedAUC, 'PhenotypicEnhancement_seed_entrez.sif')"
   ]
  },
  {
   "cell_type": "code",
   "execution_count": null,
   "metadata": {
    "collapsed": false
   },
   "outputs": [],
   "source": []
  }
 ],
 "metadata": {
  "kernelspec": {
   "display_name": "Python 3",
   "language": "python",
   "name": "python3"
  },
  "language_info": {
   "codemirror_mode": {
    "name": "ipython",
    "version": 3
   },
   "file_extension": ".py",
   "mimetype": "text/x-python",
   "name": "python",
   "nbconvert_exporter": "python",
   "pygments_lexer": "ipython3",
   "version": "3.4.3"
  }
 },
 "nbformat": 4,
 "nbformat_minor": 0
}
