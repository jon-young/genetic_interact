{
 "metadata": {
  "name": "",
  "signature": "sha256:35061dcdbf4cc4f95e58e99692cf2a70141f7ca1409a0b54125d523947ed0e97"
 },
 "nbformat": 3,
 "nbformat_minor": 0,
 "worksheets": [
  {
   "cells": [
    {
     "cell_type": "code",
     "collapsed": false,
     "input": [
      "import itertools"
     ],
     "language": "python",
     "metadata": {},
     "outputs": [],
     "prompt_number": 2
    },
    {
     "cell_type": "code",
     "collapsed": false,
     "input": [
      "import os"
     ],
     "language": "python",
     "metadata": {},
     "outputs": [],
     "prompt_number": 3
    },
    {
     "cell_type": "code",
     "collapsed": false,
     "input": [
      "import pickle"
     ],
     "language": "python",
     "metadata": {},
     "outputs": [],
     "prompt_number": 11
    },
    {
     "cell_type": "markdown",
     "metadata": {},
     "source": [
      "---"
     ]
    },
    {
     "cell_type": "code",
     "collapsed": false,
     "input": [
      "os.chdir('/work/jyoung/genetic_interact/data')"
     ],
     "language": "python",
     "metadata": {},
     "outputs": [],
     "prompt_number": 4
    },
    {
     "cell_type": "code",
     "collapsed": false,
     "input": [
      "os.chdir('/work/jyoung/genetic_interact/src')"
     ],
     "language": "python",
     "metadata": {},
     "outputs": [],
     "prompt_number": 14
    },
    {
     "cell_type": "markdown",
     "metadata": {},
     "source": [
      "---"
     ]
    },
    {
     "cell_type": "heading",
     "level": 1,
     "metadata": {},
     "source": [
      "Extracting Genetic Interactions from BIOGRID"
     ]
    },
    {
     "cell_type": "markdown",
     "metadata": {},
     "source": [
      "**2015 May 13-14**\n",
      "\n",
      "Downloaded *BIOGRID-ORGANISM-3.3.124.tab2.zip.*\n",
      "\n",
      "Header line looks like:"
     ]
    },
    {
     "cell_type": "code",
     "collapsed": false,
     "input": [
      "%%bash\n",
      "head -1 /work/jyoung/DataDownload/BIOGRID/BIOGRID-ORGANISM-3.3.124.tab2/BIOGRID-ORGANISM-Drosophila_melanogaster-3.3.124.tab2.txt"
     ],
     "language": "python",
     "metadata": {},
     "outputs": [
      {
       "output_type": "stream",
       "stream": "stdout",
       "text": [
        "#BioGRID Interaction ID\tEntrez Gene Interactor A\tEntrez Gene Interactor B\tBioGRID ID Interactor A\tBioGRID ID Interactor B\tSystematic Name Interactor A\tSystematic Name Interactor B\tOfficial Symbol Interactor A\tOfficial Symbol Interactor B\tSynonyms Interactor A\tSynonyms Interactor B\tExperimental System\tExperimental System Type\tAuthor\tPubmed ID\tOrganism Interactor A\tOrganism Interactor B\tThroughput\tScore\tModification\tPhenotypes\tQualifications\tTags\tSource Database\n"
       ]
      }
     ],
     "prompt_number": 1
    },
    {
     "cell_type": "markdown",
     "metadata": {},
     "source": [
      "Data lines look like:"
     ]
    },
    {
     "cell_type": "code",
     "collapsed": false,
     "input": [
      "%%bash\n",
      "head -2 /work/jyoung/DataDownload/BIOGRID/BIOGRID-ORGANISM-3.3.124.tab2/BIOGRID-ORGANISM-Drosophila_melanogaster-3.3.124.tab2.txt | tail -1"
     ],
     "language": "python",
     "metadata": {},
     "outputs": [
      {
       "output_type": "stream",
       "stream": "stdout",
       "text": [
        "30772\t43383\t37006\t68259\t62692\tDmel_CG10002\tDmel_CG6459\tfkh\tP32\tCG10002|DmelCG10002|Dmfkh|Sebp2|dFoxA\tCG 6459|CG6459|DmelCG6459|dp32\tTwo-hybrid\tphysical\tGiot L (2003)\t14605208\t7227\t7227\tHigh Throughput\t-\t-\t-\t-\t-\tBIOGRID\n"
       ]
      }
     ],
     "prompt_number": 2
    },
    {
     "cell_type": "markdown",
     "metadata": {},
     "source": [
      "Filter lines that have \"Experimental System Type\" as \"genetic\":"
     ]
    },
    {
     "cell_type": "code",
     "collapsed": false,
     "input": [
      "readPath = (\"/work/jyoung/DataDownload/BIOGRID/BIOGRID-ORGANISM-3.3.124.tab2/\"\n",
      "            \"BIOGRID-ORGANISM-Drosophila_melanogaster-3.3.124.tab2.txt\")"
     ],
     "language": "python",
     "metadata": {},
     "outputs": [],
     "prompt_number": 7
    },
    {
     "cell_type": "code",
     "collapsed": false,
     "input": [
      "writePath = '/work/jyoung/genetic_interact/data/BIOGRID-3.3.124-fly.txt'"
     ],
     "language": "python",
     "metadata": {},
     "outputs": [],
     "prompt_number": 5
    },
    {
     "cell_type": "code",
     "collapsed": false,
     "input": [
      "colNum = open(readPath).readline().strip().split('\\t').index('Experimental System Type')"
     ],
     "language": "python",
     "metadata": {},
     "outputs": [],
     "prompt_number": 8
    },
    {
     "cell_type": "code",
     "collapsed": false,
     "input": [
      "with open(writePath, 'w') as fid:\n",
      "    fid.writelines([line for line in open(readPath) if line.split('\\t')[colNum] == 'genetic'])"
     ],
     "language": "python",
     "metadata": {},
     "outputs": [],
     "prompt_number": 9
    },
    {
     "cell_type": "code",
     "collapsed": false,
     "input": [
      "%%bash\n",
      "wc -l /work/jyoung/genetic_interact/data/BIOGRID-3.3.124-fly.txt"
     ],
     "language": "python",
     "metadata": {},
     "outputs": [
      {
       "output_type": "stream",
       "stream": "stdout",
       "text": [
        "9980 /work/jyoung/genetic_interact/data/BIOGRID-3.3.124-fly.txt\n"
       ]
      }
     ],
     "prompt_number": 11
    },
    {
     "cell_type": "heading",
     "level": 2,
     "metadata": {},
     "source": [
      "Breakdown of experimental evidence codes"
     ]
    },
    {
     "cell_type": "markdown",
     "metadata": {},
     "source": [
      "**2015 June 10**"
     ]
    },
    {
     "cell_type": "code",
     "collapsed": false,
     "input": [
      "catg = dict()\n",
      "genes = set()\n",
      "for line in open('BIOGRID-3.3.124-fly.txt'):\n",
      "    tokens = line.split('\\t')\n",
      "    genes.update(tokens[1:3])\n",
      "    catg[tokens[11]] = catg.get(tokens[11], 0) + 1"
     ],
     "language": "python",
     "metadata": {},
     "outputs": [],
     "prompt_number": 3
    },
    {
     "cell_type": "code",
     "collapsed": false,
     "input": [
      "len(genes)"
     ],
     "language": "python",
     "metadata": {},
     "outputs": [
      {
       "metadata": {},
       "output_type": "pyout",
       "prompt_number": 4,
       "text": [
        "1042"
       ]
      }
     ],
     "prompt_number": 4
    },
    {
     "cell_type": "code",
     "collapsed": false,
     "input": [
      "catg"
     ],
     "language": "python",
     "metadata": {},
     "outputs": [
      {
       "metadata": {},
       "output_type": "pyout",
       "prompt_number": 5,
       "text": [
        "{'Dosage Rescue': 9,\n",
        " 'Synthetic Haploinsufficiency': 2,\n",
        " 'Phenotypic Enhancement': 4334,\n",
        " 'Phenotypic Suppression': 5610,\n",
        " 'Negative Genetic': 1,\n",
        " 'Synthetic Rescue': 19,\n",
        " 'Synthetic Growth Defect': 3,\n",
        " 'Synthetic Lethality': 2}"
       ]
      }
     ],
     "prompt_number": 5
    },
    {
     "cell_type": "markdown",
     "metadata": {},
     "source": [
      "---"
     ]
    },
    {
     "cell_type": "heading",
     "level": 1,
     "metadata": {},
     "source": [
      "FlyNet"
     ]
    },
    {
     "cell_type": "markdown",
     "metadata": {},
     "source": [
      "**2015 May 13-15**\n",
      "\n",
      "Downloaded [FlyNet](http://www.inetbio.org/flynet/downloadnetwork.php)."
     ]
    },
    {
     "cell_type": "code",
     "collapsed": false,
     "input": [
      "%%bash\n",
      "head -5 /work/jyoung/DataDownload/FunctionalNet/FlyNet.txt"
     ],
     "language": "python",
     "metadata": {},
     "outputs": [
      {
       "output_type": "stream",
       "stream": "stdout",
       "text": [
        "FBgn0000588\tFBgn0000629\t5.9845282658116\n",
        "FBgn0004406\tFBgn0004407\t5.98385558064729\n",
        "FBgn0039907\tFBgn0043900\t5.97562686691344\n",
        "FBgn0000352\tFBgn0001079\t5.96739494043322\n",
        "FBgn0000499\tFBgn0002945\t5.96444550034175\n"
       ]
      }
     ],
     "prompt_number": 10
    },
    {
     "cell_type": "markdown",
     "metadata": {},
     "source": [
      "So FlyNet uses FlyBase IDs. These will be converted to Entrez IDs for use with the BIOGRID genetic interactions. Note that the FlyBase conversion tool doens't actually convert to Entrez IDs. DAVID seems to only recognize 12138 of the FlyBase IDs. BioMart only \"advises\" conversion of 500 IDs at a time. \n",
      "\n",
      "Using the R Bioconductor library *org.Dm.eg.db*, an R script *convert_flynet_entrez.R* was written to convert the FlyBase IDs in FlyNet to Entrez IDs. Not all IDs were able to be converted; the FlyBase IDs without a conversion are labeled NULL. The output file is *FlyNetEntrez.txt*. "
     ]
    },
    {
     "cell_type": "markdown",
     "metadata": {},
     "source": [
      "**2015 June 11**\n",
      "\n",
      "Create a new file, *FlyNetEntrez-noNull.txt*, that has any line with NULL entries removed. "
     ]
    },
    {
     "cell_type": "code",
     "collapsed": false,
     "input": [
      "%%bash\n",
      "sed '/NULL/d' FlyNetEntrez.txt > FlyNetEntrez-noNull.txt"
     ],
     "language": "python",
     "metadata": {},
     "outputs": [],
     "prompt_number": 5
    },
    {
     "cell_type": "markdown",
     "metadata": {},
     "source": [
      "---"
     ]
    },
    {
     "cell_type": "heading",
     "level": 1,
     "metadata": {},
     "source": [
      "Predictability of Each BIOGRID Interaction Type"
     ]
    },
    {
     "cell_type": "markdown",
     "metadata": {},
     "source": [
      "**2015 June 11**"
     ]
    },
    {
     "cell_type": "code",
     "collapsed": false,
     "input": [
      "%run func_net_pred 'Dosage Rescue'"
     ],
     "language": "python",
     "metadata": {},
     "outputs": [
      {
       "output_type": "stream",
       "stream": "stdout",
       "text": [
        "Number of genes in functional network: 13052\n",
        "Number of genes in interactions: 14\n",
        "Number of seed sets: 14\n"
       ]
      },
      {
       "metadata": {},
       "output_type": "display_data",
       "png": "[encoded data removed]",
       "text": [
        "<matplotlib.figure.Figure at 0x7fcf5af8ef98>"
       ]
      }
     ],
     "prompt_number": 8
    },
    {
     "cell_type": "code",
     "collapsed": false,
     "input": [
      "%run func_net_pred 'Synthetic Haploinsufficiency'"
     ],
     "language": "python",
     "metadata": {},
     "outputs": [
      {
       "output_type": "stream",
       "stream": "stdout",
       "text": [
        "Number of genes in functional network: 13052\n",
        "Number of genes in interactions: 3\n",
        "Number of seed sets: 3\n"
       ]
      },
      {
       "metadata": {},
       "output_type": "display_data",
       "png": "[encoded data removed]",
       "text": [
        "<matplotlib.figure.Figure at 0x7fcf5af7ae10>"
       ]
      }
     ],
     "prompt_number": 9
    },
    {
     "cell_type": "code",
     "collapsed": false,
     "input": [
      "%run func_net_pred 'Phenotypic Enhancement'"
     ],
     "language": "python",
     "metadata": {},
     "outputs": [
      {
       "output_type": "stream",
       "stream": "stdout",
       "text": [
        "Number of genes in functional network: 13052\n",
        "Number of genes in interactions: 755\n",
        "Number of seed sets:"
       ]
      },
      {
       "output_type": "stream",
       "stream": "stdout",
       "text": [
        " 742\n"
       ]
      },
      {
       "metadata": {},
       "output_type": "display_data",
       "png": "[encoded data removed]",
       "text": [
        "<matplotlib.figure.Figure at 0x7fcf5aef5470>"
       ]
      }
     ],
     "prompt_number": 10
    },
    {
     "cell_type": "code",
     "collapsed": false,
     "input": [
      "%run func_net_pred 'Phenotypic Suppression'"
     ],
     "language": "python",
     "metadata": {},
     "outputs": [
      {
       "output_type": "stream",
       "stream": "stdout",
       "text": [
        "Number of genes in functional network: 13052\n",
        "Number of genes in interactions: 823\n",
        "Number of seed sets:"
       ]
      },
      {
       "output_type": "stream",
       "stream": "stdout",
       "text": [
        " 808\n"
       ]
      },
      {
       "metadata": {},
       "output_type": "display_data",
       "png": "[encoded data removed]",
       "text": [
        "<matplotlib.figure.Figure at 0x7fcf61af84a8>"
       ]
      }
     ],
     "prompt_number": 11
    },
    {
     "cell_type": "code",
     "collapsed": false,
     "input": [
      "%run func_net_pred 'Negative Genetic'"
     ],
     "language": "python",
     "metadata": {},
     "outputs": [
      {
       "output_type": "stream",
       "stream": "stdout",
       "text": [
        "Number of genes in functional network: 13052\n",
        "Number of genes in interactions: 2\n",
        "Number of seed sets: 2\n"
       ]
      },
      {
       "metadata": {},
       "output_type": "display_data",
       "png": "[encoded data removed]",
       "text": [
        "<matplotlib.figure.Figure at 0x7fcf61c074e0>"
       ]
      }
     ],
     "prompt_number": 12
    },
    {
     "cell_type": "code",
     "collapsed": false,
     "input": [
      "%run func_net_pred 'Synthetic Rescue'"
     ],
     "language": "python",
     "metadata": {},
     "outputs": [
      {
       "output_type": "stream",
       "stream": "stdout",
       "text": [
        "Number of genes in functional network: 13052\n",
        "Number of genes in interactions: 26\n",
        "Number of seed sets: 26\n"
       ]
      },
      {
       "metadata": {},
       "output_type": "display_data",
       "png": "[encoded data removed]",
       "text": [
        "<matplotlib.figure.Figure at 0x7fcf6113be48>"
       ]
      }
     ],
     "prompt_number": 13
    },
    {
     "cell_type": "code",
     "collapsed": false,
     "input": [
      "%run func_net_pred 'Synthetic Growth Defect'"
     ],
     "language": "python",
     "metadata": {},
     "outputs": [
      {
       "output_type": "stream",
       "stream": "stdout",
       "text": [
        "Number of genes in functional network: 13052\n",
        "Number of genes in interactions: 5\n",
        "Number of seed sets: 5\n"
       ]
      },
      {
       "metadata": {},
       "output_type": "display_data",
       "png": "[encoded data removed]",
       "text": [
        "<matplotlib.figure.Figure at 0x7fcf60117a58>"
       ]
      }
     ],
     "prompt_number": 14
    },
    {
     "cell_type": "code",
     "collapsed": false,
     "input": [
      "%run func_net_pred 'Synthetic Lethality'"
     ],
     "language": "python",
     "metadata": {},
     "outputs": [
      {
       "output_type": "stream",
       "stream": "stdout",
       "text": [
        "Number of genes in functional network: 13052\n",
        "Number of genes in interactions: 4\n",
        "Number of seed sets: 4\n"
       ]
      },
      {
       "metadata": {},
       "output_type": "display_data",
       "png": "[encoded data removed]",
       "text": [
        "<matplotlib.figure.Figure at 0x7fcf5fe9ce80>"
       ]
      }
     ],
     "prompt_number": 15
    },
    {
     "cell_type": "markdown",
     "metadata": {},
     "source": [
      "---"
     ]
    },
    {
     "cell_type": "heading",
     "level": 1,
     "metadata": {},
     "source": [
      "Output Gene Names in Predictable Seed Sets"
     ]
    },
    {
     "cell_type": "markdown",
     "metadata": {},
     "source": [
      "**2015 July 2-3**\n",
      "\n",
      "To examine the predictable seed sets (those having high AUC), write out the gene names of the seeds and their interactors. The fly Entrez IDs will need to be converted to fly gene names. Use the R Bioconductor library *org.Dm.eg.db* to output a conversion table to text, which can be read and stored in Python. \n",
      "\n",
      "    > library(\"org.Dm.eg.db\")\n",
      "    > entrezIDs <- ls(org.Dm.egGENENAME)\n",
      "    > length(entrezIDs)\n",
      "    [1] 24620\n",
      "    > entrezIDs[1:5]\n",
      "    [1] \"30970\" \"30971\" \"30972\" \"30973\" \"30975\"\n",
      "    > head(toTable(org.Dm.egGENENAME[entrezIDs]))\n",
      "      gene_id                                       gene_name\n",
      "    1   30970   CG3038 gene product from transcript CG3038-RC\n",
      "    2   30971   CG2995 gene product from transcript CG2995-RB\n",
      "    3   30972 CG13377 gene product from transcript CG13377-RB\n",
      "    4   30973                                        cinnamon\n",
      "    5   30975                                      erect wing\n",
      "    6   30976 CG13375 gene product from transcript CG13375-RB\n",
      "    > conversTab <- toTable(org.Dm.egGENENAME[entrezIDs])\n",
      "    > write.table(conversTab, file=\"/work/jyoung/DataProcessed/org.Dm.egGENENAME.txt\",\n",
      "                  quote=FALSE, sep=\"\\t\", row.names=FALSE)\n",
      "\n",
      "Next, verify that the table has unique gene IDs and read this conversion table into a Python dictionary. "
     ]
    },
    {
     "cell_type": "code",
     "collapsed": false,
     "input": [
      "%%bash\n",
      "head -4 /work/jyoung/DataProcessed/org.Dm.egGENENAME.txt"
     ],
     "language": "python",
     "metadata": {},
     "outputs": [
      {
       "output_type": "stream",
       "stream": "stdout",
       "text": [
        "gene_id\tgene_name\n",
        "30970\tCG3038 gene product from transcript CG3038-RC\n",
        "30971\tCG2995 gene product from transcript CG2995-RB\n",
        "30972\tCG13377 gene product from transcript CG13377-RB\n"
       ]
      }
     ],
     "prompt_number": 2
    },
    {
     "cell_type": "code",
     "collapsed": false,
     "input": [
      "%%bash\n",
      "cut -f1 /work/jyoung/DataProcessed/org.Dm.egGENENAME.txt | sort | uniq | wc -l"
     ],
     "language": "python",
     "metadata": {},
     "outputs": [
      {
       "output_type": "stream",
       "stream": "stdout",
       "text": [
        "24621\n"
       ]
      }
     ],
     "prompt_number": 1
    },
    {
     "cell_type": "code",
     "collapsed": false,
     "input": [
      "entrez2name = dict()\n",
      "fid = open('/work/jyoung/DataProcessed/org.Dm.egGENENAME.txt')\n",
      "header = fid.readline()\n",
      "for line in fid:\n",
      "    tokens = line.strip().split('\\t')\n",
      "    entrez2name[tokens[0]] = tokens[1]\n",
      "fid.close()"
     ],
     "language": "python",
     "metadata": {},
     "outputs": [],
     "prompt_number": 4
    },
    {
     "cell_type": "markdown",
     "metadata": {},
     "source": [
      "Now check whether all of the Entrez IDs in FlyNet are included in the conversion dictionary."
     ]
    },
    {
     "cell_type": "code",
     "collapsed": false,
     "input": [
      "allNetEntrez = set()\n",
      "for line in open('../data/FlyNetEntrez-noNull.txt'):\n",
      "    allNetEntrez.update(line.split('\\t')[:2])"
     ],
     "language": "python",
     "metadata": {},
     "outputs": [],
     "prompt_number": 8
    },
    {
     "cell_type": "code",
     "collapsed": false,
     "input": [
      "len(allNetEntrez)"
     ],
     "language": "python",
     "metadata": {},
     "outputs": [
      {
       "metadata": {},
       "output_type": "pyout",
       "prompt_number": 9,
       "text": [
        "13052"
       ]
      }
     ],
     "prompt_number": 9
    },
    {
     "cell_type": "code",
     "collapsed": false,
     "input": [
      "len(allNetEntrez - set(entrez2name.keys()))"
     ],
     "language": "python",
     "metadata": {},
     "outputs": [
      {
       "metadata": {},
       "output_type": "pyout",
       "prompt_number": 10,
       "text": [
        "0"
       ]
      }
     ],
     "prompt_number": 10
    },
    {
     "cell_type": "code",
     "collapsed": false,
     "input": [
      "pickle.dump(entrez2name, open('/work/jyoung/PyPickle/flyentrez2names.p', 'wb'))"
     ],
     "language": "python",
     "metadata": {},
     "outputs": [],
     "prompt_number": 12
    },
    {
     "cell_type": "markdown",
     "metadata": {},
     "source": [
      "Modifications to the *write_seeds_text( )* function (which was originally from *pred_from_huNet_v2.py*):\n",
      "- changed the number of seed sets written to be based on AUC score instead of an arbitrary numerical cutoff\n",
      "- changed the filepath for Entrez-to-name conversion from */work/jyoung/PyPickle/entrez2names.p* to *flyentrez2names.p*\n",
      "- *entrez2names* converts an Entrez ID to its multiple gene names, the 1st of which is commonly used. On the other hand, *flyentrez2names* converts a single Entrez ID to a single gene name. Therefore, any *entrez2names[ ][0]* code is changed to *entrez2names[ ]*."
     ]
    },
    {
     "cell_type": "markdown",
     "metadata": {},
     "source": [
      "Writing out seed sets for Phenotypic Enhancement:"
     ]
    },
    {
     "cell_type": "code",
     "collapsed": false,
     "input": [
      "%run func_net_pred 'Phenotypic Enhancement'"
     ],
     "language": "python",
     "metadata": {},
     "outputs": [
      {
       "output_type": "stream",
       "stream": "stdout",
       "text": [
        "Number of genes in functional network: 13052\n",
        "Number of genes in interactions: 755\n",
        "Number of seed sets:"
       ]
      },
      {
       "output_type": "stream",
       "stream": "stdout",
       "text": [
        " 742\n"
       ]
      }
     ],
     "prompt_number": 16
    },
    {
     "cell_type": "code",
     "collapsed": false,
     "input": [
      "%run func_net_pred 'Phenotypic Suppression'"
     ],
     "language": "python",
     "metadata": {},
     "outputs": [
      {
       "output_type": "stream",
       "stream": "stdout",
       "text": [
        "Number of genes in functional network: 13052\n",
        "Number of genes in interactions: 823\n",
        "Number of seed sets:"
       ]
      },
      {
       "output_type": "stream",
       "stream": "stdout",
       "text": [
        " 808\n"
       ]
      }
     ],
     "prompt_number": 17
    },
    {
     "cell_type": "code",
     "collapsed": false,
     "input": [
      "%run func_net_pred 'Synthetic Rescue'"
     ],
     "language": "python",
     "metadata": {},
     "outputs": [
      {
       "output_type": "stream",
       "stream": "stdout",
       "text": [
        "Number of genes in functional network: 13052\n",
        "Number of genes in interactions: 26\n",
        "Number of seed sets: 26\n"
       ]
      }
     ],
     "prompt_number": 18
    },
    {
     "cell_type": "code",
     "collapsed": false,
     "input": [
      "%run func_net_pred 'Synthetic Growth Defect'"
     ],
     "language": "python",
     "metadata": {},
     "outputs": [
      {
       "output_type": "stream",
       "stream": "stdout",
       "text": [
        "Number of genes in functional network: 13052\n",
        "Number of genes in interactions: 5\n",
        "Number of seed sets: 5\n"
       ]
      }
     ],
     "prompt_number": 19
    },
    {
     "cell_type": "code",
     "collapsed": false,
     "input": [],
     "language": "python",
     "metadata": {},
     "outputs": []
    }
   ],
   "metadata": {}
  }
 ]
}