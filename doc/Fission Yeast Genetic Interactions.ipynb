{
 "cells": [
  {
   "cell_type": "code",
   "execution_count": 1,
   "metadata": {
    "collapsed": true
   },
   "outputs": [],
   "source": [
    "import matplotlib"
   ]
  },
  {
   "cell_type": "code",
   "execution_count": 2,
   "metadata": {
    "collapsed": true
   },
   "outputs": [],
   "source": [
    "matplotlib.use('Agg')"
   ]
  },
  {
   "cell_type": "code",
   "execution_count": 3,
   "metadata": {
    "collapsed": true
   },
   "outputs": [],
   "source": [
    "%matplotlib qt"
   ]
  },
  {
   "cell_type": "code",
   "execution_count": 4,
   "metadata": {
    "collapsed": true
   },
   "outputs": [],
   "source": [
    "import matplotlib.pyplot as plt"
   ]
  },
  {
   "cell_type": "code",
   "execution_count": 5,
   "metadata": {
    "collapsed": true
   },
   "outputs": [],
   "source": [
    "import importlib"
   ]
  },
  {
   "cell_type": "code",
   "execution_count": 6,
   "metadata": {
    "collapsed": true
   },
   "outputs": [],
   "source": [
    "import itertools"
   ]
  },
  {
   "cell_type": "code",
   "execution_count": 7,
   "metadata": {
    "collapsed": true
   },
   "outputs": [],
   "source": [
    "import math"
   ]
  },
  {
   "cell_type": "code",
   "execution_count": 8,
   "metadata": {
    "collapsed": true
   },
   "outputs": [],
   "source": [
    "import numpy as np"
   ]
  },
  {
   "cell_type": "code",
   "execution_count": 9,
   "metadata": {
    "collapsed": true
   },
   "outputs": [],
   "source": [
    "import os"
   ]
  },
  {
   "cell_type": "code",
   "execution_count": 10,
   "metadata": {
    "collapsed": true
   },
   "outputs": [],
   "source": [
    "import pickle"
   ]
  },
  {
   "cell_type": "code",
   "execution_count": 11,
   "metadata": {
    "collapsed": true
   },
   "outputs": [],
   "source": [
    "import pprint"
   ]
  },
  {
   "cell_type": "code",
   "execution_count": 20,
   "metadata": {
    "collapsed": true
   },
   "outputs": [],
   "source": [
    "from statsmodels.sandbox.stats.multicomp import fdrcorrection0"
   ]
  },
  {
   "cell_type": "code",
   "execution_count": 12,
   "metadata": {
    "collapsed": true
   },
   "outputs": [],
   "source": [
    "import genesets"
   ]
  },
  {
   "cell_type": "markdown",
   "metadata": {},
   "source": [
    "---"
   ]
  },
  {
   "cell_type": "markdown",
   "metadata": {},
   "source": [
    "## Breakdown of experimental evidence codes\n",
    "\n",
    "**2015 November 17**"
   ]
  },
  {
   "cell_type": "code",
   "execution_count": 4,
   "metadata": {
    "collapsed": true
   },
   "outputs": [],
   "source": [
    "os.chdir(os.path.join('..', '..', 'DataDownload', 'BIOGRID', 'BIOGRID-ORGANISM-3.4.130.tab2'))"
   ]
  },
  {
   "cell_type": "code",
   "execution_count": 9,
   "metadata": {
    "collapsed": true
   },
   "outputs": [],
   "source": [
    "def experimental_evidence_breakdown(filename, colNum):\n",
    "    \"\"\"INPUT:\n",
    "    1.) <string> name of BIOGRID file to read\n",
    "    2.) <integer> number of 1st interactor column to read\n",
    "    \"\"\"\n",
    "    typeCounts = dict()\n",
    "    genes = set()\n",
    "    for line in open(filename):\n",
    "        tokens = line.split('\\t')\n",
    "        if tokens[12] == 'genetic':\n",
    "            genes.update(tokens[colNum:colNum+2])\n",
    "            typeCounts[tokens[11]] = typeCounts.get(tokens[11], 0) + 1\n",
    "    print('Number of genes:', len(genes))\n",
    "    print('Experimental evidence code breakdown:')\n",
    "    pprint.pprint(typeCounts)"
   ]
  },
  {
   "cell_type": "code",
   "execution_count": 6,
   "metadata": {
    "collapsed": true
   },
   "outputs": [],
   "source": [
    "biogridFile = 'BIOGRID-ORGANISM-Schizosaccharomyces_pombe_972h-3.4.130.tab2.txt'"
   ]
  },
  {
   "cell_type": "code",
   "execution_count": 7,
   "metadata": {
    "collapsed": true
   },
   "outputs": [],
   "source": [
    "sysNameCol = 5  # systematic name"
   ]
  },
  {
   "cell_type": "code",
   "execution_count": 11,
   "metadata": {
    "collapsed": false
   },
   "outputs": [
    {
     "name": "stdout",
     "output_type": "stream",
     "text": [
      "Number of genes: 3196\n",
      "Experimental evidence code breakdown:\n",
      "{'Dosage Growth Defect': 49,\n",
      " 'Dosage Lethality': 82,\n",
      " 'Dosage Rescue': 850,\n",
      " 'Negative Genetic': 35391,\n",
      " 'Phenotypic Enhancement': 1147,\n",
      " 'Phenotypic Suppression': 1052,\n",
      " 'Positive Genetic': 15351,\n",
      " 'Synthetic Growth Defect': 1978,\n",
      " 'Synthetic Lethality': 948,\n",
      " 'Synthetic Rescue': 880}\n"
     ]
    }
   ],
   "source": [
    "experimental_evidence_breakdown(biogridFile, sysNameCol)"
   ]
  },
  {
   "cell_type": "markdown",
   "metadata": {},
   "source": [
    "---"
   ]
  },
  {
   "cell_type": "markdown",
   "metadata": {},
   "source": [
    "**2015 November 17**\n",
    "\n",
    "There is no functional gene network for *S. pombe.*\n",
    "\n",
    "The protein complex file *Sp_prot_cmplx_Ryan2013.txt* contains 2 columns with the 1<sup>st</sup> column containing genes and the 2<sup>nd</sup> containing the protein complex names. Therefore, to process this file, simply delete the header line and switch the columns. "
   ]
  },
  {
   "cell_type": "code",
   "execution_count": 2,
   "metadata": {
    "collapsed": true
   },
   "outputs": [],
   "source": [
    "%%bash\n",
    "cd /work/jyoung/DataDownload/\n",
    "sed '1d' Sp_prot_cmplx_Ryan2013.txt > ../DataProcessed/Sp_prot_cmplx_Ryan2013.tmp\n",
    "cd ../DataProcessed/\n",
    "awk -F $'\\t' '{t = $1; $1 = $2; $2 = t; print;}' OFS=$'\\t' Sp_prot_cmplx_Ryan2013.tmp > Sp_prot_cmplx_Ryan2013.2col.txt\n",
    "rm Sp_prot_cmplx_Ryan2013.tmp"
   ]
  },
  {
   "cell_type": "markdown",
   "metadata": {},
   "source": [
    "At the moment, *get_all_genes()* in *geneintactmatrix.py* has hard-coded the BIOGRID columns to read. As the protein complex file *Sp_prot_cmplx_Ryan2013.txt* uses the systematic gene name, i.e. SPBC17D11.05, BIOGRID columns 5-6 are hard-coded in to the *get_all_genes()* function. \n",
    "\n",
    "**2015 November 18**\n",
    "\n",
    "A test run of *clustintactparallel.py* for <font color='red'>negative genetic</font> interactions started @ 02:49.\n",
    "\n",
    "**2015 November 19-20, 22-23**\n",
    "\n",
    "Job finished @ 02:36; output written as *tmp/pombe_1st_run.p*. Examining the results:"
   ]
  },
  {
   "cell_type": "code",
   "execution_count": 13,
   "metadata": {
    "collapsed": true
   },
   "outputs": [],
   "source": [
    "os.chdir(os.path.join('..', 'tmp'))"
   ]
  },
  {
   "cell_type": "code",
   "execution_count": 14,
   "metadata": {
    "collapsed": true
   },
   "outputs": [],
   "source": [
    "output = pickle.load(open('pombe_1st_run.p', 'rb'))"
   ]
  },
  {
   "cell_type": "code",
   "execution_count": 15,
   "metadata": {
    "collapsed": true
   },
   "outputs": [],
   "source": [
    "pairpvals = list(itertools.chain.from_iterable(output))\n",
    "pairpvals.sort(key=lambda f: f[1])"
   ]
  },
  {
   "cell_type": "code",
   "execution_count": 8,
   "metadata": {
    "collapsed": false
   },
   "outputs": [
    {
     "data": {
      "text/plain": [
       "[(('NuRD complex', 'Rpd3S complex'), 0.00019998000199980003),\n",
       " (('NuRD complex', 'NuA4 histone acetyltransferase complex'),\n",
       "  0.00019998000199980003),\n",
       " (('RSC complex', 'Swr1 complex'), 0.00029997000299970003),\n",
       " (('NuRD complex',\n",
       "   'eukaryotic translation initiation factor 3 complex, eIF3e'),\n",
       "  0.0005999400059994001),\n",
       " (('NuRD complex', 'eukaryotic 43S preinitiation complex'),\n",
       "  0.0006999300069993001)]"
      ]
     },
     "execution_count": 8,
     "metadata": {},
     "output_type": "execute_result"
    }
   ],
   "source": [
    "pairpvals[:5]"
   ]
  },
  {
   "cell_type": "markdown",
   "metadata": {},
   "source": [
    "There are a total of 5356 = ${104 \\choose 2}$ entries. It is clear, unfortunately, that there will be no statistical significance under Benjamini-Hochberg. \n",
    "\n",
    "What does the distribution of p-values look like?"
   ]
  },
  {
   "cell_type": "code",
   "execution_count": 22,
   "metadata": {
    "collapsed": true
   },
   "outputs": [],
   "source": [
    "numBins = math.sqrt(len(pairpvals))"
   ]
  },
  {
   "cell_type": "code",
   "execution_count": 25,
   "metadata": {
    "collapsed": false
   },
   "outputs": [
    {
     "data": {
      "image/png": "[encoded data removed]",
      "text/plain": [
       "<matplotlib.figure.Figure at 0x7f3e38314b70>"
      ]
     },
     "metadata": {},
     "output_type": "display_data"
    }
   ],
   "source": [
    "n, bins, patches = plt.hist(np.array([t[1] for t in pairpvals]), bins=numBins, log=True)\n",
    "plt.xlabel('p-value')\n",
    "plt.ylabel('Count')\n",
    "plt.title('Negative Genetic Interactions between Protein Complex Pairs')\n",
    "plt.show()"
   ]
  },
  {
   "cell_type": "markdown",
   "metadata": {},
   "source": [
    "Create a plotting function that accepts protein complex pair names, and plots the interactions between them as a network, all in a single figure. Refer to the script *clustintactvis.py*. \n",
    "\n",
    "Also, what is the distribution of overlap between protein complex pairs?"
   ]
  },
  {
   "cell_type": "code",
   "execution_count": 41,
   "metadata": {
    "collapsed": true
   },
   "outputs": [],
   "source": [
    "protcmplxfile = os.path.join('..', '..', 'DataProcessed', 'Sp_prot_cmplx_Ryan2013.2col.txt')\n",
    "cmplx2genes = genesets.process_file(protcmplxfile)"
   ]
  },
  {
   "cell_type": "code",
   "execution_count": 12,
   "metadata": {
    "collapsed": false
   },
   "outputs": [
    {
     "data": {
      "image/png": "[encoded data removed]",
      "text/plain": [
       "<matplotlib.figure.Figure at 0x7f284ac9d198>"
      ]
     },
     "metadata": {},
     "output_type": "display_data"
    }
   ],
   "source": [
    "pairIntersect = [len(set(cmplx2genes[pair[0]]) & set(cmplx2genes[pair[1]])) \n",
    "                 for pair in itertools.combinations(cmplx2genes.keys(), 2)]\n",
    "\n",
    "numBins = math.sqrt(len(pairIntersect))\n",
    "n, bins, patches = plt.hist(pairIntersect, bins=numBins, log=True)\n",
    "plt.xlabel('Number of genes in common between complex pair')\n",
    "plt.ylabel('Count')\n",
    "plt.title('Distribution of gene overlap between protein complex pairs')\n",
    "plt.show()"
   ]
  },
  {
   "cell_type": "markdown",
   "metadata": {},
   "source": [
    "Examine the top-scoring/most significant complex pair interaction by visualizing it as a network:"
   ]
  },
  {
   "cell_type": "code",
   "execution_count": 13,
   "metadata": {
    "collapsed": false
   },
   "outputs": [],
   "source": [
    "os.chdir(os.path.join('..', 'src'))"
   ]
  },
  {
   "cell_type": "code",
   "execution_count": 37,
   "metadata": {
    "collapsed": true
   },
   "outputs": [],
   "source": [
    "import geneintactmatrix"
   ]
  },
  {
   "cell_type": "code",
   "execution_count": 38,
   "metadata": {
    "collapsed": true
   },
   "outputs": [],
   "source": [
    "adjMat, gene2idx = geneintactmatrix.make_adj('pombe', 'Negative Genetic')"
   ]
  },
  {
   "cell_type": "code",
   "execution_count": 39,
   "metadata": {
    "collapsed": false
   },
   "outputs": [],
   "source": [
    "import clustintactvis"
   ]
  },
  {
   "cell_type": "code",
   "execution_count": 21,
   "metadata": {
    "collapsed": true
   },
   "outputs": [],
   "source": [
    "vispairs = [pairpvals[i][0] for i in range(10)]"
   ]
  },
  {
   "cell_type": "code",
   "execution_count": 26,
   "metadata": {
    "collapsed": false
   },
   "outputs": [
    {
     "name": "stderr",
     "output_type": "stream",
     "text": [
      "/work/anaconda3/lib/python3.4/site-packages/matplotlib/backend_bases.py:2399: MatplotlibDeprecationWarning: Using default event loop until function specific to this GUI is implemented\n",
      "  warnings.warn(str, mplDeprecation)\n"
     ]
    }
   ],
   "source": [
    "clustintactvis.btw_complex_net(vispairs, cmplx2genes, gene2idx, adjMat)"
   ]
  },
  {
   "cell_type": "markdown",
   "metadata": {
    "collapsed": true
   },
   "source": [
    "**2015 November 23**\n",
    "\n",
    "Renamed and moved pickled result from the parallel run on negative genetic:\n",
    "\n",
    "    mkdir pombeIntactClust\n",
    "    mv tmp/pombe_1st_run.p results/pombeIntactClust/NegGenetBtwProtRandNet.p\n",
    "\n",
    "**2015 November 21, 23**\n",
    "\n",
    "Revisit the binomial model for assessing cluster interaction significance; modify *clust_intact.py* accordingly. See how it works on negative genetic interactions. "
   ]
  },
  {
   "cell_type": "code",
   "execution_count": 27,
   "metadata": {
    "collapsed": false
   },
   "outputs": [
    {
     "name": "stdout",
     "output_type": "stream",
     "text": [
      "\n",
      "Choose from the following organisms (enter species name):\n",
      "1) cerevisiae\n",
      "2) pombe\n",
      "3) melanogaster\n",
      "4) sapiens\n",
      "pombe\n",
      "\n",
      "Use \"functional net\" or \"protein complexes\" for clusters?\n",
      "protein complexes\n",
      "Enter type of genetic interaction:\n",
      "Negative Genetic\n"
     ]
    }
   ],
   "source": [
    "%run clust_intact.py"
   ]
  },
  {
   "cell_type": "code",
   "execution_count": 30,
   "metadata": {
    "collapsed": false
   },
   "outputs": [],
   "source": [
    "resultsSorted = sorted(results, key=lambda f: f[1])"
   ]
  },
  {
   "cell_type": "code",
   "execution_count": 31,
   "metadata": {
    "collapsed": true
   },
   "outputs": [],
   "source": [
    "pvals = [t[1] for t in resultsSorted]"
   ]
  },
  {
   "cell_type": "code",
   "execution_count": 34,
   "metadata": {
    "collapsed": true
   },
   "outputs": [],
   "source": [
    "rejected, pvalsCor = fdrcorrection0(pvals, is_sorted=True)"
   ]
  },
  {
   "cell_type": "code",
   "execution_count": 35,
   "metadata": {
    "collapsed": false
   },
   "outputs": [
    {
     "data": {
      "text/plain": [
       "3"
      ]
     },
     "execution_count": 35,
     "metadata": {},
     "output_type": "execute_result"
    }
   ],
   "source": [
    "np.sum(rejected)"
   ]
  },
  {
   "cell_type": "code",
   "execution_count": 36,
   "metadata": {
    "collapsed": false
   },
   "outputs": [
    {
     "data": {
      "text/plain": [
       "'/work/jyoung/genetic_interact/src'"
      ]
     },
     "execution_count": 36,
     "metadata": {},
     "output_type": "execute_result"
    }
   ],
   "source": [
    "os.getcwd()"
   ]
  },
  {
   "cell_type": "code",
   "execution_count": 42,
   "metadata": {
    "collapsed": false
   },
   "outputs": [
    {
     "name": "stderr",
     "output_type": "stream",
     "text": [
      "/work/anaconda3/lib/python3.4/site-packages/matplotlib/backend_bases.py:2399: MatplotlibDeprecationWarning: Using default event loop until function specific to this GUI is implemented\n",
      "  warnings.warn(str, mplDeprecation)\n"
     ]
    }
   ],
   "source": [
    "clustintactvis.btw_complex_net([t[0] for t in resultsSorted[:3]], cmplx2genes, gene2idx, adjMat)"
   ]
  },
  {
   "cell_type": "code",
   "execution_count": null,
   "metadata": {
    "collapsed": true
   },
   "outputs": [],
   "source": []
  }
 ],
 "metadata": {
  "kernelspec": {
   "display_name": "Python 3",
   "language": "python",
   "name": "python3"
  },
  "language_info": {
   "codemirror_mode": {
    "name": "ipython",
    "version": 3
   },
   "file_extension": ".py",
   "mimetype": "text/x-python",
   "name": "python",
   "nbconvert_exporter": "python",
   "pygments_lexer": "ipython3",
   "version": "3.4.3"
  }
 },
 "nbformat": 4,
 "nbformat_minor": 0
}
