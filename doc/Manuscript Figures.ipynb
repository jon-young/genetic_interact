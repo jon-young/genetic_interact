{
 "cells": [
  {
   "cell_type": "markdown",
   "metadata": {},
   "source": [
    "# Manuscript Figures"
   ]
  },
  {
   "cell_type": "code",
   "execution_count": 1,
   "metadata": {
    "collapsed": true
   },
   "outputs": [],
   "source": [
    "import matplotlib"
   ]
  },
  {
   "cell_type": "code",
   "execution_count": 2,
   "metadata": {
    "collapsed": true
   },
   "outputs": [],
   "source": [
    "matplotlib.use('Agg')"
   ]
  },
  {
   "cell_type": "code",
   "execution_count": 3,
   "metadata": {
    "collapsed": true
   },
   "outputs": [],
   "source": [
    "%matplotlib inline"
   ]
  },
  {
   "cell_type": "code",
   "execution_count": 4,
   "metadata": {
    "collapsed": true
   },
   "outputs": [],
   "source": [
    "import matplotlib.pyplot as plt"
   ]
  },
  {
   "cell_type": "code",
   "execution_count": 5,
   "metadata": {
    "collapsed": true
   },
   "outputs": [],
   "source": [
    "import mygene"
   ]
  },
  {
   "cell_type": "code",
   "execution_count": 6,
   "metadata": {
    "collapsed": true
   },
   "outputs": [],
   "source": [
    "import networkx as nx"
   ]
  },
  {
   "cell_type": "code",
   "execution_count": 7,
   "metadata": {
    "collapsed": true
   },
   "outputs": [],
   "source": [
    "import numpy as np"
   ]
  },
  {
   "cell_type": "code",
   "execution_count": 8,
   "metadata": {
    "collapsed": true
   },
   "outputs": [],
   "source": [
    "import os"
   ]
  },
  {
   "cell_type": "code",
   "execution_count": 9,
   "metadata": {
    "collapsed": true
   },
   "outputs": [],
   "source": [
    "import pandas as pd"
   ]
  },
  {
   "cell_type": "code",
   "execution_count": 10,
   "metadata": {
    "collapsed": true
   },
   "outputs": [],
   "source": [
    "from sklearn import metrics"
   ]
  },
  {
   "cell_type": "markdown",
   "metadata": {},
   "source": [
    "## Figure 1\n",
    "\n",
    "**2015 December 11, 24-25**\n",
    "\n",
    "Workflow schematic.\n",
    "\n",
    "An example functional gene network *Figure 1 net.cys* was constructed in Cytoscape. A ROC curve for genetic interaction predictability is to be constructed from this network. The set of interactors &Omega; = {gene A, gene B, gene C, gene M}. To find the LLS score of genes connected to &Omega;, convert the edge list to an adjacency matrix and calculate AUC:"
   ]
  },
  {
   "cell_type": "code",
   "execution_count": 38,
   "metadata": {
    "collapsed": false
   },
   "outputs": [],
   "source": [
    "G = nx.read_weighted_edgelist('Figure 1 edgelist.csv', delimiter=',')\n",
    "A = nx.to_pandas_dataframe(G)\n",
    "seeds = ['gene A', 'gene B', 'gene C', 'gene M']\n",
    "llsSum = A.loc[seeds,:].sum(axis=0)\n",
    "trueLabels = pd.Series([0]*llsSum.size, index=llsSum.index)\n",
    "trueLabels.loc[seeds] = 1\n",
    "fpr, tpr, thresholds = metrics.roc_curve(trueLabels.values, llsSum.values)\n",
    "rocauc = metrics.auc(fpr, tpr)"
   ]
  },
  {
   "cell_type": "markdown",
   "metadata": {},
   "source": [
    "Plot ROC curve:"
   ]
  },
  {
   "cell_type": "code",
   "execution_count": 39,
   "metadata": {
    "collapsed": false
   },
   "outputs": [
    {
     "data": {
      "image/png": "[encoded data removed]",
      "text/plain": [
       "<matplotlib.figure.Figure at 0x7f1b4aaee0b8>"
      ]
     },
     "metadata": {},
     "output_type": "display_data"
    }
   ],
   "source": [
    "plt.figure()\n",
    "plt.plot(fpr, tpr, label='ROC curve (area = %0.2f)' %rocauc)\n",
    "plt.plot([0,1], [0,1], 'k--')\n",
    "plt.xlim([0.0, 1.0])\n",
    "plt.ylim([0.0, 1.05])\n",
    "plt.xlabel('False Positive Rate', fontsize='x-large')\n",
    "plt.ylabel('True Positive Rate', fontsize='x-large')\n",
    "plt.title('Genetic Interaction Predictability of Seed Set', fontsize='xx-large')\n",
    "plt.tick_params(labelsize='large')\n",
    "plt.legend(loc=\"lower right\")\n",
    "plt.tight_layout()\n",
    "plt.savefig('Figure 1 ROC.svg')\n",
    "plt.show()"
   ]
  },
  {
   "cell_type": "markdown",
   "metadata": {},
   "source": [
    "## Organism Figures\n",
    "\n",
    "**2015 December 26-27, 30-31; 2016 January 1**\n",
    "\n",
    "Working on script *explorenet.py* to interactively plot predictive nets with easy navigation among seed sets. This is a re-write of much of *func_net_pred.py*; in particular, a Pandas data frame is being used. Reached 1<sup>st</sup> working version on 2015-12-30; checked for one seed set that the number of genetic interactors of a seed set (\"Phenotypic Enhancement\" for *D. melanogaster*, AUC=0.980592) is the same as before when *func_net_pred.py* was used. Still using BIOGRID version 3.4.127. \n",
    "\n",
    "For execution speed purposes, the Pandas data frame representation of the functional gene network will be pre-computed and saved to a Python pickle format. \n",
    "\n",
    "**2016 January 5**\n",
    "\n",
    "The following improvements were made to *explorenet.py*:\n",
    "\n",
    "* replace interactor node circles with labels\n",
    "* adjust node and edge transparency\n",
    "* reduce node size, adjust canvas size, and spring parameters *k*, scale to clean up network display\n",
    "* add seed gene to title\n",
    "* gene ID conversion using the *mygene* module\n",
    "\n",
    "Also the network now shows the gene names instead of Entrez IDs. Thus far the code has only been run on *D. melanogaster*. \n",
    "\n",
    "**2016 January 20-25, 29**\n",
    "\n",
    "For each organism (i.e. human, fly, yeast, etc.), make a figure that has the AUC bar plots showing predictability and below it an illustrative predictive network (which is really a subgraph of the functional gene network). \n",
    "\n",
    "As of 20 January, the new, Pandas-refactored verison of *func_net_pred.py* is being used along with *explorenet.py* to choose the seed gene. Immediately below is general code used for each organism. "
   ]
  },
  {
   "cell_type": "code",
   "execution_count": 13,
   "metadata": {
    "collapsed": true
   },
   "outputs": [],
   "source": [
    "mg = mygene.MyGeneInfo()"
   ]
  },
  {
   "cell_type": "code",
   "execution_count": 24,
   "metadata": {
    "collapsed": false
   },
   "outputs": [],
   "source": [
    "os.chdir(os.path.join('..', 'src'))"
   ]
  },
  {
   "cell_type": "code",
   "execution_count": 15,
   "metadata": {
    "collapsed": true
   },
   "outputs": [],
   "source": [
    "import func_net_pred"
   ]
  },
  {
   "cell_type": "markdown",
   "metadata": {},
   "source": [
    "Get predictive seed sets (copying the `main()` function of *func_net_pred.py* below):"
   ]
  },
  {
   "cell_type": "code",
   "execution_count": 16,
   "metadata": {
    "collapsed": true
   },
   "outputs": [],
   "source": [
    "intactType = 'Phenotypic Enhancement'"
   ]
  },
  {
   "cell_type": "code",
   "execution_count": 17,
   "metadata": {
    "collapsed": false
   },
   "outputs": [],
   "source": [
    "biogridpath, fnetpath = func_net_pred.setup_filepaths(organism)  # CHOOSE ORGANISM BELOW\n",
    "funcNetDf = pd.read_pickle(fnetpath)\n",
    "numNodes = len(funcNetDf.columns)\n",
    "geneExample = funcNetDf.columns[0]\n",
    "colName = func_net_pred.determine_col(organism, geneExample)\n",
    "seedSets = func_net_pred.read_biogrid(biogridpath, intactType, colName)\n",
    "seedAUC, seed2intacts = func_net_pred.seed_set_predictability(funcNetDf, seedSets)"
   ]
  },
  {
   "cell_type": "markdown",
   "metadata": {},
   "source": [
    "An LLS cutoff and seed gene is chosen for each organism and genetic interaction type (assigned below). Recall that a hairball results if the LLS is not thresholded. Using code from *explorenet.py* below.\n",
    "\n",
    "*NOTE*: The code below is likely to generate duplicate edges, but these can be easily removed in Cytoscape. "
   ]
  },
  {
   "cell_type": "code",
   "execution_count": 18,
   "metadata": {
    "collapsed": true
   },
   "outputs": [],
   "source": [
    "llsCut = 4.0"
   ]
  },
  {
   "cell_type": "code",
   "execution_count": 19,
   "metadata": {
    "collapsed": false
   },
   "outputs": [],
   "source": [
    "interactors = seed2intacts[seedGene]  # SET SEED GENE BELOW\n",
    "TF = funcNetDf[interactors] > llsCut\n",
    "keepPartners = set(TF.index[TF.sum(axis=1) > 1])\n",
    "finalNet = funcNetDf.loc[list(keepPartners), interactors].copy()\n",
    "s = finalNet[finalNet > llsCut].stack()\n",
    "edgeList = list()\n",
    "for row in s.iteritems():\n",
    "    try:\n",
    "        edgeList.append((mg.getgene(row[0][0])['name'], \n",
    "            mg.getgene(row[0][1])['name'], str(row[1])+'\\n'))\n",
    "    except:\n",
    "        edgeList.append((row[0][0], row[0][1], str(row[1])+'\\n'))"
   ]
  },
  {
   "cell_type": "markdown",
   "metadata": {},
   "source": [
    "Function for writing edge list to output text file: "
   ]
  },
  {
   "cell_type": "code",
   "execution_count": 21,
   "metadata": {
    "collapsed": true
   },
   "outputs": [],
   "source": [
    "def write_edge_list(outputpath, edgelist):\n",
    "    writefile = open(outputpath, 'w')\n",
    "    writefile.writelines(['\\t'.join(edge) for edge in edgelist])\n",
    "    writefile.close()"
   ]
  },
  {
   "cell_type": "markdown",
   "metadata": {
    "collapsed": true
   },
   "source": [
    "### Human\n",
    "\n",
    "**2016 January 19-21, 23-25**\n",
    "\n",
    "Using *explorenet.py* to choose which predictive seed set to illustrate. For phenotypic enhancement, an AUC range from 0.90 to 0.99 with a minimum of 2 gene interactors and <s>2.0</s> 3.0 LLS cutoff suggests choosing SNW domain containing 1 (Entrez ID 22938; AUC = 0.910). For phenotypic suppression, an AUC range from 0.80 to 0.90 with a minimum of 2 gene interactors and <s>2.0</s> 3.0 LLS cutoff suggests choosing caspase 2 (Entrez ID 841; AUC = 0.897)."
   ]
  },
  {
   "cell_type": "code",
   "execution_count": 15,
   "metadata": {
    "collapsed": true
   },
   "outputs": [],
   "source": [
    "organism = 'sapiens'"
   ]
  },
  {
   "cell_type": "code",
   "execution_count": 18,
   "metadata": {
    "collapsed": true
   },
   "outputs": [],
   "source": [
    "seedGene = '841'"
   ]
  },
  {
   "cell_type": "code",
   "execution_count": 20,
   "metadata": {
    "collapsed": false
   },
   "outputs": [
    {
     "data": {
      "text/plain": [
       "['BCL2-like 1',\n",
       " 'caspase 9',\n",
       " 'X-linked inhibitor of apoptosis',\n",
       " 'nucleolar protein 3',\n",
       " 'B-cell CLL/lymphoma 2']"
      ]
     },
     "execution_count": 20,
     "metadata": {},
     "output_type": "execute_result"
    }
   ],
   "source": [
    "[mg.getgene(g)['name'] for g in interactors]"
   ]
  },
  {
   "cell_type": "markdown",
   "metadata": {},
   "source": [
    "Write edge list to output text file:\n",
    "\n",
    "    write_edge_list(os.path.join('..', 'results', 'H_sapiens', 'Human_pheno_enhance_edges.txt'))"
   ]
  },
  {
   "cell_type": "code",
   "execution_count": 21,
   "metadata": {
    "collapsed": false
   },
   "outputs": [],
   "source": [
    "os.chdir(os.path.join('..', 'results', 'H_sapiens'))"
   ]
  },
  {
   "cell_type": "code",
   "execution_count": 22,
   "metadata": {
    "collapsed": false
   },
   "outputs": [],
   "source": [
    "writefile = open('Human_pheno_enhance_edges.txt', 'w')\n",
    "writefile.writelines(['\\t'.join(edge) for edge in edgeList])\n",
    "writefile.close()"
   ]
  },
  {
   "cell_type": "markdown",
   "metadata": {
    "collapsed": true
   },
   "source": [
    "### Fly\n",
    "\n",
    "**2016 January 29**\n",
    "\n",
    "From setting the minimum # of gene interactors = 2 and LLS cutoff = 4.0 in *explorenet.py*, some good candidates for phenotypic enhancement are: seven up (AUC = 0.940) and polycomblike (AUC = 0.920). \n",
    "\n",
    "For phenotypic suppression, setting the minimum # of gene interactors = 2 and LLS cutoff = 4.0 yields the following candidates: Deformed (AUC = 0.990), Antennapodia (AUC = 0.987), fused (AUC = 0.984), abdominal A (AUC = 0.982), argos (AUC = 0.980), retinoblastoma-family protein (AUC = 0.974), patched (AUC = 0.950). "
   ]
  },
  {
   "cell_type": "code",
   "execution_count": 11,
   "metadata": {
    "collapsed": true
   },
   "outputs": [],
   "source": [
    "organism = 'melanogaster'"
   ]
  },
  {
   "cell_type": "code",
   "execution_count": 27,
   "metadata": {
    "collapsed": false
   },
   "outputs": [
    {
     "data": {
      "text/plain": [
       "['corkscrew',\n",
       " 'rolled',\n",
       " 'sevenless',\n",
       " 'anterior open',\n",
       " 'Ras GTPase activating protein 1',\n",
       " 'Raf oncogene',\n",
       " 'Epidermal growth factor receptor',\n",
       " 'Ras oncogene at 85D',\n",
       " 'CG33197 gene product from transcript CG33197-RP',\n",
       " 'downstream of receptor kinase']"
      ]
     },
     "execution_count": 27,
     "metadata": {},
     "output_type": "execute_result"
    }
   ],
   "source": [
    "[mg.getgene(g)['name'] for g in interactors]"
   ]
  },
  {
   "cell_type": "code",
   "execution_count": 12,
   "metadata": {
    "collapsed": true
   },
   "outputs": [],
   "source": [
    "seedGene = '41491'"
   ]
  },
  {
   "cell_type": "code",
   "execution_count": 26,
   "metadata": {
    "collapsed": false
   },
   "outputs": [],
   "source": [
    "write_edge_list(os.path.join('..', 'results', 'D_melanogaster', 'Fly_pheno_enhance_edges.txt'), edgeList)"
   ]
  },
  {
   "cell_type": "code",
   "execution_count": null,
   "metadata": {
    "collapsed": true
   },
   "outputs": [],
   "source": []
  }
 ],
 "metadata": {
  "kernelspec": {
   "display_name": "Python 3",
   "language": "python",
   "name": "python3"
  },
  "language_info": {
   "codemirror_mode": {
    "name": "ipython",
    "version": 3
   },
   "file_extension": ".py",
   "mimetype": "text/x-python",
   "name": "python",
   "nbconvert_exporter": "python",
   "pygments_lexer": "ipython3",
   "version": "3.4.3"
  }
 },
 "nbformat": 4,
 "nbformat_minor": 0
}
