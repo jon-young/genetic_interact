{
 "cells": [
  {
   "cell_type": "markdown",
   "metadata": {},
   "source": [
    "# Manuscript Figures\n",
    "\n",
    "---"
   ]
  },
  {
   "cell_type": "code",
   "execution_count": 1,
   "metadata": {
    "collapsed": true
   },
   "outputs": [],
   "source": [
    "import importlib"
   ]
  },
  {
   "cell_type": "code",
   "execution_count": 2,
   "metadata": {
    "collapsed": true
   },
   "outputs": [],
   "source": [
    "import matplotlib"
   ]
  },
  {
   "cell_type": "code",
   "execution_count": 3,
   "metadata": {
    "collapsed": true
   },
   "outputs": [],
   "source": [
    "matplotlib.use('Agg')"
   ]
  },
  {
   "cell_type": "code",
   "execution_count": 4,
   "metadata": {
    "collapsed": true
   },
   "outputs": [],
   "source": [
    "%matplotlib inline"
   ]
  },
  {
   "cell_type": "code",
   "execution_count": 5,
   "metadata": {
    "collapsed": true
   },
   "outputs": [],
   "source": [
    "import matplotlib.pyplot as plt"
   ]
  },
  {
   "cell_type": "code",
   "execution_count": 6,
   "metadata": {
    "collapsed": true
   },
   "outputs": [],
   "source": [
    "import networkx as nx"
   ]
  },
  {
   "cell_type": "code",
   "execution_count": 7,
   "metadata": {
    "collapsed": true
   },
   "outputs": [],
   "source": [
    "import numpy as np"
   ]
  },
  {
   "cell_type": "code",
   "execution_count": 8,
   "metadata": {
    "collapsed": true
   },
   "outputs": [],
   "source": [
    "import os"
   ]
  },
  {
   "cell_type": "code",
   "execution_count": 9,
   "metadata": {
    "collapsed": true
   },
   "outputs": [],
   "source": [
    "import pandas as pd"
   ]
  },
  {
   "cell_type": "code",
   "execution_count": 10,
   "metadata": {
    "collapsed": true
   },
   "outputs": [],
   "source": [
    "from sklearn import metrics"
   ]
  },
  {
   "cell_type": "markdown",
   "metadata": {},
   "source": [
    "---\n",
    "\n",
    "## Figure 1\n",
    "\n",
    "**2015 December 11, 24-25**\n",
    "\n",
    "Workflow schematic.\n",
    "\n",
    "An example functional gene network *Figure 1 net.cys* was constructed in Cytoscape. A ROC curve for genetic interaction predictability is to be constructed from this network. The set of interactors &Omega; = {gene A, gene B, gene C, gene M}. To find the LLS score of genes connected to &Omega;, convert the edge list to an adjacency matrix and calculate AUC:"
   ]
  },
  {
   "cell_type": "code",
   "execution_count": 38,
   "metadata": {
    "collapsed": false
   },
   "outputs": [],
   "source": [
    "G = nx.read_weighted_edgelist('Figure 1 edgelist.csv', delimiter=',')\n",
    "A = nx.to_pandas_dataframe(G)\n",
    "seeds = ['gene A', 'gene B', 'gene C', 'gene M']\n",
    "llsSum = A.loc[seeds,:].sum(axis=0)\n",
    "trueLabels = pd.Series([0]*llsSum.size, index=llsSum.index)\n",
    "trueLabels.loc[seeds] = 1\n",
    "fpr, tpr, thresholds = metrics.roc_curve(trueLabels.values, llsSum.values)\n",
    "rocauc = metrics.auc(fpr, tpr)"
   ]
  },
  {
   "cell_type": "markdown",
   "metadata": {},
   "source": [
    "Plot ROC curve:"
   ]
  },
  {
   "cell_type": "code",
   "execution_count": 39,
   "metadata": {
    "collapsed": false
   },
   "outputs": [
    {
     "data": {
      "image/png": "[encoded data removed]",
      "text/plain": [
       "<matplotlib.figure.Figure at 0x7f1b4aaee0b8>"
      ]
     },
     "metadata": {},
     "output_type": "display_data"
    }
   ],
   "source": [
    "plt.figure()\n",
    "plt.plot(fpr, tpr, label='ROC curve (area = %0.2f)' %rocauc)\n",
    "plt.plot([0,1], [0,1], 'k--')\n",
    "plt.xlim([0.0, 1.0])\n",
    "plt.ylim([0.0, 1.05])\n",
    "plt.xlabel('False Positive Rate', fontsize='x-large')\n",
    "plt.ylabel('True Positive Rate', fontsize='x-large')\n",
    "plt.title('Genetic Interaction Predictability of Seed Set', fontsize='xx-large')\n",
    "plt.tick_params(labelsize='large')\n",
    "plt.legend(loc=\"lower right\")\n",
    "plt.tight_layout()\n",
    "plt.savefig('Figure 1 ROC.svg')\n",
    "plt.show()"
   ]
  },
  {
   "cell_type": "markdown",
   "metadata": {
    "collapsed": true
   },
   "source": [
    "## Figure 2\n",
    "\n",
    "**2015 December 14**\n",
    "\n",
    "Human genetic interaction predictability AUC plots, with functional networks cluster for high AUC seed genes."
   ]
  },
  {
   "cell_type": "code",
   "execution_count": 9,
   "metadata": {
    "collapsed": true
   },
   "outputs": [],
   "source": [
    "os.chdir(os.path.join('..', 'src'))"
   ]
  },
  {
   "cell_type": "code",
   "execution_count": 10,
   "metadata": {
    "collapsed": true
   },
   "outputs": [],
   "source": [
    "import func_net_pred"
   ]
  },
  {
   "cell_type": "code",
   "execution_count": 11,
   "metadata": {
    "collapsed": true
   },
   "outputs": [],
   "source": [
    "netfile = 'H6Net_CC.net'"
   ]
  },
  {
   "cell_type": "code",
   "execution_count": 58,
   "metadata": {
    "collapsed": true
   },
   "outputs": [],
   "source": [
    "experimentSys = 'Phenotypic Suppression'"
   ]
  },
  {
   "cell_type": "code",
   "execution_count": 13,
   "metadata": {
    "collapsed": true
   },
   "outputs": [],
   "source": [
    "biogridfile = 'BIOGRID-3.4.130-human.txt'"
   ]
  },
  {
   "cell_type": "markdown",
   "metadata": {},
   "source": [
    "Get predictive seed sets:"
   ]
  },
  {
   "cell_type": "code",
   "execution_count": 59,
   "metadata": {
    "collapsed": false
   },
   "outputs": [
    {
     "name": "stdout",
     "output_type": "stream",
     "text": [
      "Number of genes in interactions: 241\n"
     ]
    }
   ],
   "source": [
    "node2edgewt = func_net_pred.process_func_net(netfile)\n",
    "gene2idx = func_net_pred.assign_gene_indices(node2edgewt)\n",
    "adjMat = func_net_pred.build_netwk_adj_matrix(node2edgewt, gene2idx)\n",
    "seedSets = func_net_pred.read_biogrid(experimentSys, biogridfile)\n",
    "seedAUC, seed2intacts = func_net_pred.seed_set_predictability(gene2idx, adjMat, seedSets)"
   ]
  },
  {
   "cell_type": "code",
   "execution_count": 60,
   "metadata": {
    "collapsed": false
   },
   "outputs": [
    {
     "data": {
      "text/plain": [
       "174"
      ]
     },
     "execution_count": 60,
     "metadata": {},
     "output_type": "execute_result"
    }
   ],
   "source": [
    "len(seedAUC)"
   ]
  },
  {
   "cell_type": "markdown",
   "metadata": {},
   "source": [
    "Examine which seed to pick:"
   ]
  },
  {
   "cell_type": "code",
   "execution_count": 30,
   "metadata": {
    "collapsed": false
   },
   "outputs": [
    {
     "data": {
      "text/plain": [
       "[((0.82810997707270162, '4654'), 3),\n",
       " ((0.83138266400414162, '5599'), 3),\n",
       " ((0.85075244649166637, '1387'), 12),\n",
       " ((0.87047206967326796, '7006'), 4),\n",
       " ((0.8716582562736408, '2033'), 13),\n",
       " ((0.91046232085067058, '22938'), 6),\n",
       " ((0.97845943347385556, '7031'), 3),\n",
       " ((0.98086416329247328, '4088'), 2),\n",
       " ((0.98197348715957622, '4087'), 2),\n",
       " ((0.98291641244661376, '7124'), 2),\n",
       " ((0.98851849797548408, '7704'), 2),\n",
       " ((0.98885129513561476, '6047'), 2),\n",
       " ((0.99517444117810194, '1950'), 2)]"
      ]
     },
     "execution_count": 30,
     "metadata": {},
     "output_type": "execute_result"
    }
   ],
   "source": [
    "# phenotypic enhancement\n",
    "[(seedAUC[i], len(seed2intacts[seedAUC[i][1]])) for i in range(172, 185)]"
   ]
  },
  {
   "cell_type": "markdown",
   "metadata": {},
   "source": [
    "For phenotypic enhancement, choose Entrez ID 22938."
   ]
  },
  {
   "cell_type": "code",
   "execution_count": 66,
   "metadata": {
    "collapsed": false
   },
   "outputs": [
    {
     "data": {
      "text/plain": [
       "[((0.8163967162192145, '8312'), 3),\n",
       " ((0.81998372901412608, '5071'), 3),\n",
       " ((0.82673249020042883, '7099'), 3),\n",
       " ((0.82766622291250647, '672'), 3),\n",
       " ((0.8305876044671251, '22938'), 3),\n",
       " ((0.8528595994896544, '7124'), 4),\n",
       " ((0.86370444333499752, '4851'), 4),\n",
       " ((0.89360923111061796, '7189'), 5),\n",
       " ((0.89679906801287024, '835'), 5),\n",
       " ((0.8968822811494509, '841'), 5),\n",
       " ((0.97882343151938755, '2033'), 4),\n",
       " ((0.98397027012036165, '7186'), 2),\n",
       " ((0.98458039824726828, '7291'), 2),\n",
       " ((0.98740917410838092, '5328'), 2),\n",
       " ((0.98821343391203065, '904'), 2),\n",
       " ((0.98993288590604023, '5715'), 2)]"
      ]
     },
     "execution_count": 66,
     "metadata": {},
     "output_type": "execute_result"
    }
   ],
   "source": [
    "# phenotypic suppression\n",
    "[(seedAUC[i], len(seed2intacts[seedAUC[i][1]])) for i in range(130, 146)]"
   ]
  },
  {
   "cell_type": "markdown",
   "metadata": {},
   "source": [
    "For phenotypic suppression, choose Entrez ID 841. \n",
    "\n",
    "Read in functional network and write out seed cluster edges for import into Cytoscape:"
   ]
  },
  {
   "cell_type": "code",
   "execution_count": 22,
   "metadata": {
    "collapsed": true
   },
   "outputs": [],
   "source": [
    "fnetpath = os.path.join('..', '..', 'DataDownload', 'FunctionalNet', netfile)\n",
    "fnet = [tuple(line.split('\\t')) for line in open(fnetpath)]"
   ]
  },
  {
   "cell_type": "code",
   "execution_count": 67,
   "metadata": {
    "collapsed": true
   },
   "outputs": [],
   "source": [
    "seed = '841'\n",
    "edgeset = set()\n",
    "for intactor in seed2intacts[seed]:\n",
    "    edgeset.update([netedge for netedge in fnet if intactor in netedge])"
   ]
  },
  {
   "cell_type": "code",
   "execution_count": 68,
   "metadata": {
    "collapsed": false
   },
   "outputs": [
    {
     "data": {
      "text/plain": [
       "438"
      ]
     },
     "execution_count": 68,
     "metadata": {},
     "output_type": "execute_result"
    }
   ],
   "source": [
    "len(edgeset)"
   ]
  },
  {
   "cell_type": "markdown",
   "metadata": {},
   "source": [
    "Clearly, the edge list needs to be pared down."
   ]
  },
  {
   "cell_type": "code",
   "execution_count": 57,
   "metadata": {
    "collapsed": false
   },
   "outputs": [
    {
     "data": {
      "image/png": "[encoded data removed]",
      "text/plain": [
       "<matplotlib.figure.Figure at 0x7f70d231b2b0>"
      ]
     },
     "metadata": {},
     "output_type": "display_data"
    }
   ],
   "source": [
    "plt.hist([float(edge[2]) for edge in edgeset])\n",
    "plt.xlabel('LLS')\n",
    "plt.ylabel('Count')\n",
    "plt.title('Phenotypic Enhancement')\n",
    "plt.show()"
   ]
  },
  {
   "cell_type": "code",
   "execution_count": 69,
   "metadata": {
    "collapsed": false
   },
   "outputs": [
    {
     "data": {
      "image/png": "[encoded data removed]",
      "text/plain": [
       "<matplotlib.figure.Figure at 0x7f71769348d0>"
      ]
     },
     "metadata": {},
     "output_type": "display_data"
    }
   ],
   "source": [
    "plt.hist([float(edge[2]) for edge in edgeset])\n",
    "plt.xlabel('LLS')\n",
    "plt.ylabel('Count')\n",
    "plt.title('Phenotypic Suppression')\n",
    "plt.show()"
   ]
  },
  {
   "cell_type": "code",
   "execution_count": 70,
   "metadata": {
    "collapsed": false
   },
   "outputs": [],
   "source": [
    "edgelist = [edge for edge in edgeset if float(edge[2]) > 3.0]"
   ]
  },
  {
   "cell_type": "code",
   "execution_count": 52,
   "metadata": {
    "collapsed": false
   },
   "outputs": [
    {
     "data": {
      "text/plain": [
       "51"
      ]
     },
     "execution_count": 52,
     "metadata": {},
     "output_type": "execute_result"
    }
   ],
   "source": [
    "len(edgelist)  # phenotypic enhancement"
   ]
  },
  {
   "cell_type": "code",
   "execution_count": 71,
   "metadata": {
    "collapsed": false
   },
   "outputs": [
    {
     "data": {
      "text/plain": [
       "53"
      ]
     },
     "execution_count": 71,
     "metadata": {},
     "output_type": "execute_result"
    }
   ],
   "source": [
    "len(edgelist)  # phenotypic suppression"
   ]
  },
  {
   "cell_type": "code",
   "execution_count": 46,
   "metadata": {
    "collapsed": false
   },
   "outputs": [
    {
     "data": {
      "text/plain": [
       "['4089', '4087', '4088', '10499', '8106', '8648']"
      ]
     },
     "execution_count": 46,
     "metadata": {},
     "output_type": "execute_result"
    }
   ],
   "source": [
    "seed2intacts['22938']  # phenotypic enhancement"
   ]
  },
  {
   "cell_type": "code",
   "execution_count": 72,
   "metadata": {
    "collapsed": false
   },
   "outputs": [
    {
     "data": {
      "text/plain": [
       "['598', '842', '8996', '331', '596']"
      ]
     },
     "execution_count": 72,
     "metadata": {},
     "output_type": "execute_result"
    }
   ],
   "source": [
    "seed2intacts['841']  # phenotypic suppression"
   ]
  },
  {
   "cell_type": "code",
   "execution_count": 54,
   "metadata": {
    "collapsed": true
   },
   "outputs": [],
   "source": [
    "os.chdir(os.path.join('..', 'doc'))"
   ]
  },
  {
   "cell_type": "code",
   "execution_count": 73,
   "metadata": {
    "collapsed": false
   },
   "outputs": [],
   "source": [
    "writefile = open('Figure_2_pheno_suppress_edges.txt', 'w')\n",
    "writefile.writelines(['\\t'.join(edge) for edge in edgelist])\n",
    "writefile.close()"
   ]
  },
  {
   "cell_type": "markdown",
   "metadata": {
    "collapsed": true
   },
   "source": [
    "## Fly Figure\n",
    "\n",
    "**2015 December 16**\n",
    "\n",
    "Similar to the figure for the human case above *(NOTE: using BIOGRID v.3.4.127)*. "
   ]
  },
  {
   "cell_type": "code",
   "execution_count": 17,
   "metadata": {
    "collapsed": false
   },
   "outputs": [
    {
     "data": {
      "text/plain": [
       "<module 'func_net_pred' from '/work/jyoung/genetic_interact/src/func_net_pred.py'>"
      ]
     },
     "execution_count": 17,
     "metadata": {},
     "output_type": "execute_result"
    }
   ],
   "source": [
    "importlib.reload(func_net_pred)"
   ]
  },
  {
   "cell_type": "code",
   "execution_count": 11,
   "metadata": {
    "collapsed": true
   },
   "outputs": [],
   "source": [
    "netfile = 'FlyNetEntrez-noNull.txt'"
   ]
  },
  {
   "cell_type": "code",
   "execution_count": 56,
   "metadata": {
    "collapsed": true
   },
   "outputs": [],
   "source": [
    "experimentSys = 'Phenotypic Enhancement'"
   ]
  },
  {
   "cell_type": "code",
   "execution_count": 13,
   "metadata": {
    "collapsed": true
   },
   "outputs": [],
   "source": [
    "biogridfile = 'BIOGRID-3.4.127-fly.txt'"
   ]
  },
  {
   "cell_type": "markdown",
   "metadata": {},
   "source": [
    "Get predictive seed sets *(NOTE: changed read directory of functional net file in process_func_net( ) from func_net_pred.py)*:"
   ]
  },
  {
   "cell_type": "code",
   "execution_count": 57,
   "metadata": {
    "collapsed": false
   },
   "outputs": [
    {
     "name": "stdout",
     "output_type": "stream",
     "text": [
      "Number of genes in interactions: 755\n"
     ]
    }
   ],
   "source": [
    "node2edgewt = func_net_pred.process_func_net(netfile)\n",
    "gene2idx = func_net_pred.assign_gene_indices(node2edgewt)\n",
    "adjMat = func_net_pred.build_netwk_adj_matrix(node2edgewt, gene2idx)\n",
    "seedSets = func_net_pred.read_biogrid(experimentSys, biogridfile)\n",
    "seedAUC, seed2intacts = func_net_pred.seed_set_predictability(gene2idx, adjMat, seedSets)"
   ]
  },
  {
   "cell_type": "markdown",
   "metadata": {},
   "source": [
    "Choose seed by examining the *Fly_PhenotypicEnhancement_seed_sets.txt* and *Fly_PhenotypicSuppression_seed_sets.txt* files. Looking for high AUCs (but not approximately 1.0) with a relatively sizeable number of interactors. For phenotypic enhancement, go with the \"thickveins\" gene (Entrez ID 33753). For phenotypic suppression, go with the \"fused\" gene (Entrez ID 32855). "
   ]
  },
  {
   "cell_type": "code",
   "execution_count": 58,
   "metadata": {
    "collapsed": false
   },
   "outputs": [
    {
     "data": {
      "text/plain": [
       "10"
      ]
     },
     "execution_count": 58,
     "metadata": {},
     "output_type": "execute_result"
    }
   ],
   "source": [
    "len(seed2intacts['33753'])"
   ]
  },
  {
   "cell_type": "code",
   "execution_count": 59,
   "metadata": {
    "collapsed": false
   },
   "outputs": [
    {
     "data": {
      "text/plain": [
       "(0.98115319736236772, '33753')"
      ]
     },
     "execution_count": 59,
     "metadata": {},
     "output_type": "execute_result"
    }
   ],
   "source": [
    "next(t for t in seedAUC if t[1]=='33753')"
   ]
  },
  {
   "cell_type": "markdown",
   "metadata": {},
   "source": [
    "Read in functional network and write out seed cluster edges for import into Cytoscape:"
   ]
  },
  {
   "cell_type": "code",
   "execution_count": 29,
   "metadata": {
    "collapsed": true
   },
   "outputs": [],
   "source": [
    "fnetpath = os.path.join('..', 'data', netfile)\n",
    "fnet = [tuple(line.split('\\t')) for line in open(fnetpath)]"
   ]
  },
  {
   "cell_type": "code",
   "execution_count": 60,
   "metadata": {
    "collapsed": true
   },
   "outputs": [],
   "source": [
    "seed = '33753'\n",
    "edgeset = set()\n",
    "for intactor in seed2intacts[seed]:\n",
    "    edgeset.update([netedge for netedge in fnet if intactor in netedge])"
   ]
  },
  {
   "cell_type": "code",
   "execution_count": 61,
   "metadata": {
    "collapsed": false
   },
   "outputs": [
    {
     "data": {
      "text/plain": [
       "4593"
      ]
     },
     "execution_count": 61,
     "metadata": {},
     "output_type": "execute_result"
    }
   ],
   "source": [
    "len(edgeset)"
   ]
  },
  {
   "cell_type": "code",
   "execution_count": 36,
   "metadata": {
    "collapsed": false
   },
   "outputs": [
    {
     "data": {
      "image/png": "[encoded data removed]",
      "text/plain": [
       "<matplotlib.figure.Figure at 0x7ff15ca95b38>"
      ]
     },
     "metadata": {},
     "output_type": "display_data"
    }
   ],
   "source": [
    "plt.hist([float(edge[2]) for edge in edgeset])\n",
    "plt.xlabel('LLS')\n",
    "plt.ylabel('Count')\n",
    "plt.title('Phenotypic Enhancement')\n",
    "plt.show()"
   ]
  },
  {
   "cell_type": "code",
   "execution_count": 51,
   "metadata": {
    "collapsed": false
   },
   "outputs": [
    {
     "data": {
      "image/png": "[encoded data removed]",
      "text/plain": [
       "<matplotlib.figure.Figure at 0x7ff15caa6278>"
      ]
     },
     "metadata": {},
     "output_type": "display_data"
    }
   ],
   "source": [
    "plt.hist([float(edge[2]) for edge in edgeset])\n",
    "plt.xlabel('LLS')\n",
    "plt.ylabel('Count')\n",
    "plt.title('Phenotypic Suppression')\n",
    "plt.show()"
   ]
  },
  {
   "cell_type": "code",
   "execution_count": 62,
   "metadata": {
    "collapsed": true
   },
   "outputs": [],
   "source": [
    "edgelist = [edge for edge in edgeset if float(edge[2]) > 4.0]"
   ]
  },
  {
   "cell_type": "code",
   "execution_count": 63,
   "metadata": {
    "collapsed": false
   },
   "outputs": [
    {
     "data": {
      "text/plain": [
       "57"
      ]
     },
     "execution_count": 63,
     "metadata": {},
     "output_type": "execute_result"
    }
   ],
   "source": [
    "len(edgelist)  # phenotypic enhancement"
   ]
  },
  {
   "cell_type": "code",
   "execution_count": 53,
   "metadata": {
    "collapsed": false
   },
   "outputs": [
    {
     "data": {
      "text/plain": [
       "28"
      ]
     },
     "execution_count": 53,
     "metadata": {},
     "output_type": "execute_result"
    }
   ],
   "source": [
    "len(edgelist)  # phenotypic suppression"
   ]
  },
  {
   "cell_type": "code",
   "execution_count": 64,
   "metadata": {
    "collapsed": false,
    "scrolled": true
   },
   "outputs": [
    {
     "name": "stdout",
     "output_type": "stream",
     "text": [
      "['38494', '36171', '33432', '38168', '31293', '40958', '45908', '32256', '41772', '37778']\n"
     ]
    }
   ],
   "source": [
    "print(seed2intacts['33753'])"
   ]
  },
  {
   "cell_type": "code",
   "execution_count": 54,
   "metadata": {
    "collapsed": false
   },
   "outputs": [
    {
     "name": "stdout",
     "output_type": "stream",
     "text": [
      "['42737', '31379', '35653', '41565', '35851', '40958', '45908', '43767']\n"
     ]
    }
   ],
   "source": [
    "print(seed2intacts['32855'])"
   ]
  },
  {
   "cell_type": "code",
   "execution_count": 41,
   "metadata": {
    "collapsed": true
   },
   "outputs": [],
   "source": [
    "os.chdir(os.path.join('..', 'doc'))"
   ]
  },
  {
   "cell_type": "code",
   "execution_count": 55,
   "metadata": {
    "collapsed": true
   },
   "outputs": [],
   "source": [
    "writefile = open('Fly_figure_pheno_suppress_edges.txt', 'w')\n",
    "writefile.writelines(['\\t'.join(edge) for edge in edgelist])\n",
    "writefile.close()"
   ]
  },
  {
   "cell_type": "code",
   "execution_count": null,
   "metadata": {
    "collapsed": true
   },
   "outputs": [],
   "source": []
  }
 ],
 "metadata": {
  "kernelspec": {
   "display_name": "Python 3",
   "language": "python",
   "name": "python3"
  },
  "language_info": {
   "codemirror_mode": {
    "name": "ipython",
    "version": 3
   },
   "file_extension": ".py",
   "mimetype": "text/x-python",
   "name": "python",
   "nbconvert_exporter": "python",
   "pygments_lexer": "ipython3",
   "version": "3.4.3"
  }
 },
 "nbformat": 4,
 "nbformat_minor": 0
}
