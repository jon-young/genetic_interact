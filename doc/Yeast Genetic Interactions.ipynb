{
 "cells": [
  {
   "cell_type": "code",
   "execution_count": 1,
   "metadata": {
    "collapsed": true
   },
   "outputs": [],
   "source": [
    "import itertools"
   ]
  },
  {
   "cell_type": "code",
   "execution_count": 1,
   "metadata": {
    "collapsed": true
   },
   "outputs": [],
   "source": [
    "import matplotlib"
   ]
  },
  {
   "cell_type": "code",
   "execution_count": 2,
   "metadata": {
    "collapsed": true
   },
   "outputs": [],
   "source": [
    "matplotlib.use('Agg')"
   ]
  },
  {
   "cell_type": "code",
   "execution_count": 3,
   "metadata": {
    "collapsed": true
   },
   "outputs": [],
   "source": [
    "%matplotlib inline"
   ]
  },
  {
   "cell_type": "code",
   "execution_count": 4,
   "metadata": {
    "collapsed": true
   },
   "outputs": [],
   "source": [
    "import matplotlib.pyplot as plt"
   ]
  },
  {
   "cell_type": "code",
   "execution_count": 2,
   "metadata": {
    "collapsed": true
   },
   "outputs": [],
   "source": [
    "import os"
   ]
  },
  {
   "cell_type": "code",
   "execution_count": 3,
   "metadata": {
    "collapsed": true
   },
   "outputs": [],
   "source": [
    "import re"
   ]
  },
  {
   "cell_type": "markdown",
   "metadata": {},
   "source": [
    "---"
   ]
  },
  {
   "cell_type": "markdown",
   "metadata": {},
   "source": [
    "# Preparing genetic interactions from BIOGRID\n",
    "\n",
    "**2015 July 4-6, 8; August 3**\n",
    "\n",
    "Previously, in Lee et al. \"Predicting genetic modifier loci using functional gene networks\" (2010), yeast genetic interactions were predicted using the functional network approach. The sources for the seed data were:\n",
    "\n",
    "- Tong AH et al. 2004. Global mapping of the yeast genetic interaction network. Science 303:808. PMID 14764870.\n",
    "- Davierwala AP et al. 2005. The synthetic genetic interaction spectrum of essential genes. Nat Genet 37:1147. PMID 16155567.\n",
    "\n",
    "Lee et al. used YeastNet v2, and while it contains genetic interactions, it doesn't contain the most recent datasets, such as the Costanzo et al. 2010 Science paper. The objective now is to evaluate the functional network approach on these newer interaction data. Note that is now a newer version of YeastNet (v3). \n",
    "\n",
    "The sources listed above will need to be excluded from this analysis. The BIOGRID database has entries for \"Author\" and \"Pubmed ID\". Checking whether the Tong AH (2004) and Davierwala AP (2005) papers are listed in version 3.3.124:"
   ]
  },
  {
   "cell_type": "code",
   "execution_count": 1,
   "metadata": {
    "collapsed": false
   },
   "outputs": [
    {
     "name": "stdout",
     "output_type": "stream",
     "text": [
      "4369\n"
     ]
    }
   ],
   "source": [
    "%%bash\n",
    "cd /work/jyoung/DataDownload/BIOGRID/BIOGRID-ORGANISM-3.3.124.tab2/\n",
    "grep 14764870 BIOGRID-ORGANISM-Saccharomyces_cerevisiae_S288c-3.3.124.tab2.txt | wc -l"
   ]
  },
  {
   "cell_type": "code",
   "execution_count": 2,
   "metadata": {
    "collapsed": false
   },
   "outputs": [
    {
     "name": "stdout",
     "output_type": "stream",
     "text": [
      "108850\t855450\t851373\t35569\t31885\tYNL271C\tYDL225W\tBNI1\tSHS1\tPPF3|SHE5|formin BNI1|L000000190\tSEP7|septin SHS1\tSynthetic Lethality\tgenetic\tTong AH (2004)\t14764870\t559292\t559292\tHigh Throughput\t-\t-\tinviable\t-\t-\tBIOGRID\n"
     ]
    }
   ],
   "source": [
    "%%bash\n",
    "cd /work/jyoung/DataDownload/BIOGRID/BIOGRID-ORGANISM-3.3.124.tab2/\n",
    "grep 14764870 BIOGRID-ORGANISM-Saccharomyces_cerevisiae_S288c-3.3.124.tab2.txt | head -1"
   ]
  },
  {
   "cell_type": "code",
   "execution_count": 3,
   "metadata": {
    "collapsed": false
   },
   "outputs": [
    {
     "name": "stdout",
     "output_type": "stream",
     "text": [
      "567\n"
     ]
    }
   ],
   "source": [
    "%%bash\n",
    "cd /work/jyoung/DataDownload/BIOGRID/BIOGRID-ORGANISM-3.3.124.tab2/\n",
    "grep 16155567 BIOGRID-ORGANISM-Saccharomyces_cerevisiae_S288c-3.3.124.tab2.txt | wc -l"
   ]
  },
  {
   "cell_type": "code",
   "execution_count": 4,
   "metadata": {
    "collapsed": false
   },
   "outputs": [
    {
     "name": "stdout",
     "output_type": "stream",
     "text": [
      "484166\t851532\t852538\t32027\t32931\tYDL029W\tYBR236C\tARP2\tABD1\tACT2|actin-related protein 2|L000000026\tL000000011\tSynthetic Growth Defect\tgenetic\tDavierwala AP (2005)\t16155567\t559292\t559292\tHigh Throughput\t-\t-\tvegetative growth\tSGA screen\t-\tBIOGRID\n"
     ]
    }
   ],
   "source": [
    "%%bash\n",
    "cd /work/jyoung/DataDownload/BIOGRID/BIOGRID-ORGANISM-3.3.124.tab2/\n",
    "grep 16155567 BIOGRID-ORGANISM-Saccharomyces_cerevisiae_S288c-3.3.124.tab2.txt | head -1"
   ]
  },
  {
   "cell_type": "markdown",
   "metadata": {},
   "source": [
    "Also checking the Costanzo 2010 Science paper:"
   ]
  },
  {
   "cell_type": "code",
   "execution_count": 5,
   "metadata": {
    "collapsed": false
   },
   "outputs": [
    {
     "name": "stdout",
     "output_type": "stream",
     "text": [
      "68087\n"
     ]
    }
   ],
   "source": [
    "%%bash\n",
    "cd /work/jyoung/DataDownload/BIOGRID/BIOGRID-ORGANISM-3.3.124.tab2/\n",
    "grep 20093466 BIOGRID-ORGANISM-Saccharomyces_cerevisiae_S288c-3.3.124.tab2.txt | wc -l"
   ]
  },
  {
   "cell_type": "code",
   "execution_count": 6,
   "metadata": {
    "collapsed": false
   },
   "outputs": [
    {
     "name": "stdout",
     "output_type": "stream",
     "text": [
      "354378\t851236\t850395\t31767\t31012\tYAL063C\tYCR028C-A\tFLO9\tRIM1\tflocculin FLO9|L000003331\tL000001640\tNegative Genetic\tgenetic\tCostanzo M (2010)\t20093466\t559292\t559292\tHigh Throughput\t-0.1969\t-\tcolony size\tA Synthetic Genetic Array (SGA) analysis was carried out to quantitatively score genetic interactions based on fitness defects that were estimated from the colony size of double versus single mutants. Genetic interactions were considered significant if they had an SGA score of epsilon > 0.08 for positive interactions and epsilon < -0.08 for negative interactions, and a p-value < 0.05.\t-\tBIOGRID\n"
     ]
    }
   ],
   "source": [
    "%%bash\n",
    "cd /work/jyoung/DataDownload/BIOGRID/BIOGRID-ORGANISM-3.3.124.tab2/\n",
    "grep 20093466 BIOGRID-ORGANISM-Saccharomyces_cerevisiae_S288c-3.3.124.tab2.txt | head -1"
   ]
  },
  {
   "cell_type": "markdown",
   "metadata": {},
   "source": [
    "<s>So now process the BIOGRID *S. cerevisiae* file to remove Tong AH (2004) and Davierwala AP (2005), and keep only those lines for genetic interactions. But first download the latest version of BIOGRID (v3.4.126).</s>\n",
    "\n",
    "The Tong and Davierwala datasets were used as seed sets in the 2010 Genome Research paper. While these definitely need to be removed, note that YeastNet v2 [1] itself contains other genetic interactions. In particular, \"genetic interactions (GI) were collected from...BioGRID (downloaded on June 2006)...\" [1]. \n",
    "\n",
    "Therefore, remove every genetic interaction before 2007 from BIOGRID. This would also remove anything from Tong and Davierwala. \n",
    "\n",
    "[1] Lee I, Li Z, Marcotte EM (2007) An Improved, Bias-Reduced Probabilistic Functional Gene Network of Baker's Yeast, Saccharomyces cerevisiae. PLoS ONE 2(10): e988."
   ]
  },
  {
   "cell_type": "code",
   "execution_count": 3,
   "metadata": {
    "collapsed": false
   },
   "outputs": [],
   "source": [
    "os.chdir('/work/jyoung/DataDownload/BIOGRID/BIOGRID-ORGANISM-3.4.127.tab2')"
   ]
  },
  {
   "cell_type": "code",
   "execution_count": 4,
   "metadata": {
    "collapsed": false
   },
   "outputs": [],
   "source": [
    "readFile = open('BIOGRID-ORGANISM-Saccharomyces_cerevisiae_S288c-3.4.127.tab2.txt')\n",
    "writeFile = open('/work/jyoung/genetic_interact/data/BIOGRID-3.4.127-for-yeastnetv2.txt', 'w')\n",
    "header = readFile.readline().rstrip().split('\\t')\n",
    "PMIDcolNum = header.index('Pubmed ID')\n",
    "expSysTypeCol = header.index('Experimental System Type')\n",
    "authorCol = header.index('Author')\n",
    "for line in readFile:\n",
    "    tokens = line.rstrip().split('\\t')\n",
    "    ##if tokens[PMIDcolNum] != '14764870' and tokens[PMIDcolNum] != '16155567':\n",
    "    ##    if tokens[expSysTypeCol] == 'genetic':\n",
    "    ##        writeFile.write(line)\n",
    "    if tokens[expSysTypeCol] == 'genetic':\n",
    "        author = tokens[authorCol]\n",
    "        year = int(re.search(r'\\((\\d+)\\)', author).group(1))\n",
    "        if year > 2006:\n",
    "            writeFile.write(line)\n",
    "readFile.close()\n",
    "writeFile.close()"
   ]
  },
  {
   "cell_type": "markdown",
   "metadata": {},
   "source": [
    "Download YeastNet v2:\n",
    "\n",
    "    wget http://www.functionalnet.org/yeastnet/data/yeastnet2.benchmarkset.gene.txt\n",
    "    wget http://www.functionalnet.org/yeastnet/data/yeastnet2.benchmarkset.orf.txt\n",
    "    wget http://www.functionalnet.org/yeastnet/data/yeastnet2.gene.txt\n",
    "    wget http://www.functionalnet.org/yeastnet/data/yeastnet2.orf.txt\n",
    "    wget http://www.functionalnet.org/yeastnet/data/yeastnet2-evidence.gene.txt\n",
    "    wget http://www.functionalnet.org/yeastnet/data/yeastnet2-evidence.orf.txt\n",
    "\n",
    "The network genes are in either gene name (i.e. RPC19) or ORF (i.e. YNL113W). The function *read_biogrid( )* in the script *func_net_pred.py* will need to be modified to accept arguments for compiling genetic interactions in either systematic name or official symbol. "
   ]
  },
  {
   "cell_type": "markdown",
   "metadata": {
    "collapsed": true
   },
   "source": [
    "**2015 August 2**\n",
    "\n",
    "Go back and download the newest version (3.4.127) of BIOGRID:\n",
    "\n",
    "    wget http://thebiogrid.org/downloads/archives/Release%20Archive/BIOGRID-3.4.127/BIOGRID-ORGANISM-3.4.127.tab2.zip\n",
    "    mkdir BIOGRID-ORGANISM-3.4.127.tab2\n",
    "    unzip BIOGRID-ORGANISM-3.4.127.tab2.zip -d BIOGRID-ORGANISM-3.4.127.tab2/\n",
    "\n",
    "Re-do the removal of old genetic interaction datasets as above. \n",
    "\n",
    "Modify the *read_biogrid( )* function in *func_net_pred.py* to read in the columns for systematic name interactors. Note that the columns are now a hard-coded parameter. Systematic name interactors are columns 5 & 6, while official symbol interactors are 7 & 8. "
   ]
  },
  {
   "cell_type": "markdown",
   "metadata": {},
   "source": [
    "---"
   ]
  },
  {
   "cell_type": "markdown",
   "metadata": {
    "collapsed": true
   },
   "source": [
    "# Breakdown of experimental evidence codes\n",
    "\n",
    "**2015 August 3**"
   ]
  },
  {
   "cell_type": "code",
   "execution_count": 5,
   "metadata": {
    "collapsed": true
   },
   "outputs": [],
   "source": [
    "os.chdir('/work/jyoung/genetic_interact/data')"
   ]
  },
  {
   "cell_type": "code",
   "execution_count": 6,
   "metadata": {
    "collapsed": true
   },
   "outputs": [],
   "source": [
    "def experimental_evidence_breakdown(filename, colNum):\n",
    "    \"\"\"\n",
    "    INPUT:\n",
    "    1.) <string> name of BIOGRID file to read\n",
    "    2.) <integer> number of interactor column to read\n",
    "    \"\"\"\n",
    "    typeCounts = dict()\n",
    "    genes = set()\n",
    "    for line in open(filename):\n",
    "        tokens = line.split('\\t')\n",
    "        genes.update(tokens[colNum:colNum+2])\n",
    "        typeCounts[tokens[11]] = typeCounts.get(tokens[11], 0) + 1\n",
    "    print('Number of genes:', len(genes))\n",
    "    print('Experimental evidence code breakdown:')\n",
    "    print(typeCounts)"
   ]
  },
  {
   "cell_type": "code",
   "execution_count": 7,
   "metadata": {
    "collapsed": true
   },
   "outputs": [],
   "source": [
    "biogridFilename = 'BIOGRID-3.4.127-for-yeastnetv2.txt'"
   ]
  },
  {
   "cell_type": "code",
   "execution_count": 8,
   "metadata": {
    "collapsed": true
   },
   "outputs": [],
   "source": [
    "sysNameCol = 5  # systematic name"
   ]
  },
  {
   "cell_type": "code",
   "execution_count": 9,
   "metadata": {
    "collapsed": false
   },
   "outputs": [
    {
     "name": "stdout",
     "output_type": "stream",
     "text": [
      "Number of genes: 5558\n",
      "Experimental evidence code breakdown:\n",
      "{'Dosage Rescue': 1897, 'Phenotypic Suppression': 5335, 'Negative Genetic': 110089, 'Phenotypic Enhancement': 5343, 'Synthetic Lethality': 6160, 'Synthetic Growth Defect': 13287, 'Positive Genetic': 23237, 'Synthetic Rescue': 4114, 'Dosage Lethality': 1120, 'Dosage Growth Defect': 1859, 'Synthetic Haploinsufficiency': 282}\n"
     ]
    }
   ],
   "source": [
    "experimental_evidence_breakdown(biogridFilename, sysNameCol)"
   ]
  },
  {
   "cell_type": "code",
   "execution_count": 10,
   "metadata": {
    "collapsed": true
   },
   "outputs": [],
   "source": [
    "symbolCol = 7  # official symbol"
   ]
  },
  {
   "cell_type": "code",
   "execution_count": 11,
   "metadata": {
    "collapsed": false
   },
   "outputs": [
    {
     "name": "stdout",
     "output_type": "stream",
     "text": [
      "Number of genes: 5593\n",
      "Experimental evidence code breakdown:\n",
      "{'Dosage Rescue': 1897, 'Phenotypic Suppression': 5335, 'Negative Genetic': 110089, 'Phenotypic Enhancement': 5343, 'Synthetic Lethality': 6160, 'Synthetic Growth Defect': 13287, 'Positive Genetic': 23237, 'Synthetic Rescue': 4114, 'Dosage Lethality': 1120, 'Dosage Growth Defect': 1859, 'Synthetic Haploinsufficiency': 282}\n"
     ]
    }
   ],
   "source": [
    "experimental_evidence_breakdown(biogridFilename, symbolCol)"
   ]
  },
  {
   "cell_type": "markdown",
   "metadata": {},
   "source": [
    "---"
   ]
  },
  {
   "cell_type": "markdown",
   "metadata": {
    "collapsed": true
   },
   "source": [
    "# Predictability for BIOGRID interactions types\n",
    "\n",
    "**2015 August 4-7**\n",
    "\n",
    "Major updates to *func_net_pred.py*. It no longer requires working only with Entrez IDs. The *get_entrez_indices( )* function has been replaced with the *assign_gene_indices( )* function. Sorting of gene IDs still occurs so that every time the script is run, the indices of the adjacency matrix always correspond to the same gene IDs. The *write_seeds_text( )* function no longer does a gene ID conversion. The *main( )* function contains a flag variable that indicates whether or not any conversion needs to be done. Note that the conversion should be based from the functional network; that is, the conversion dictionary should be built from converting the genes in the network. \n",
    "\n",
    "In an ideal scenario, the functional network and the BIOGRID file use the same gene IDs. If not, then convert to Entrez, as it seems to have less ambiguity than either official symbols or systematic name. For example, the R conversion has names such as \"CG6646 gene product from transcript CG6646-RA\", while BIOGRID simply uses \"CG6646\".\n",
    "\n",
    "**2015 August 7**\n",
    "\n",
    "Using BIOGRID v3.4.127 and YeastNet v2 with gene names (official symbol for BIOGRID). "
   ]
  },
  {
   "cell_type": "code",
   "execution_count": 7,
   "metadata": {
    "collapsed": true
   },
   "outputs": [],
   "source": [
    "os.chdir('/work/jyoung/genetic_interact/src')"
   ]
  },
  {
   "cell_type": "code",
   "execution_count": 9,
   "metadata": {
    "collapsed": false
   },
   "outputs": [
    {
     "name": "stdout",
     "output_type": "stream",
     "text": [
      "Number of genes in functional network: 5483\n",
      "Number of genes in interactions: 1436\n",
      "Number of seed sets: 1167\n"
     ]
    },
    {
     "data": {
      "image/png": "[encoded data removed]",
      "text/plain": [
       "<matplotlib.figure.Figure at 0x7ff880dffb00>"
      ]
     },
     "metadata": {},
     "output_type": "display_data"
    }
   ],
   "source": [
    "%run func_net_pred 'Dosage Rescue'"
   ]
  },
  {
   "cell_type": "code",
   "execution_count": 10,
   "metadata": {
    "collapsed": false
   },
   "outputs": [
    {
     "name": "stdout",
     "output_type": "stream",
     "text": [
      "Number of genes in functional network: 5483\n",
      "Number of genes in interactions: 1776\n",
      "Number of seed sets: 1537\n"
     ]
    },
    {
     "data": {
      "image/png": "[encoded data removed]",
      "text/plain": [
       "<matplotlib.figure.Figure at 0x7ff88275d160>"
      ]
     },
     "metadata": {},
     "output_type": "display_data"
    }
   ],
   "source": [
    "%run func_net_pred 'Phenotypic Suppression'"
   ]
  },
  {
   "cell_type": "code",
   "execution_count": 11,
   "metadata": {
    "collapsed": false
   },
   "outputs": [
    {
     "name": "stdout",
     "output_type": "stream",
     "text": [
      "Number of genes in functional network: 5483\n",
      "Number of genes in interactions: 4739\n",
      "Number of seed sets: 3975\n"
     ]
    },
    {
     "data": {
      "image/png": "[encoded data removed]",
      "text/plain": [
       "<matplotlib.figure.Figure at 0x7ff88275dc18>"
      ]
     },
     "metadata": {},
     "output_type": "display_data"
    }
   ],
   "source": [
    "%run func_net_pred 'Negative Genetic'"
   ]
  },
  {
   "cell_type": "code",
   "execution_count": 12,
   "metadata": {
    "collapsed": false
   },
   "outputs": [
    {
     "name": "stdout",
     "output_type": "stream",
     "text": [
      "Number of genes in functional network: 5483\n",
      "Number of genes in interactions: 1988\n",
      "Number of seed sets: 1727\n"
     ]
    },
    {
     "data": {
      "image/png": "[encoded data removed]",
      "text/plain": [
       "<matplotlib.figure.Figure at 0x7ff86f524b70>"
      ]
     },
     "metadata": {},
     "output_type": "display_data"
    }
   ],
   "source": [
    "%run func_net_pred 'Phenotypic Enhancement'"
   ]
  },
  {
   "cell_type": "code",
   "execution_count": 13,
   "metadata": {
    "collapsed": false
   },
   "outputs": [
    {
     "name": "stdout",
     "output_type": "stream",
     "text": [
      "Number of genes in functional network: 5483\n",
      "Number of genes in interactions: 2721\n",
      "Number of seed sets: 2430\n"
     ]
    },
    {
     "data": {
      "image/png": "[encoded data removed]",
      "text/plain": [
       "<matplotlib.figure.Figure at 0x7ff87019fe80>"
      ]
     },
     "metadata": {},
     "output_type": "display_data"
    }
   ],
   "source": [
    "%run func_net_pred 'Synthetic Lethality'"
   ]
  },
  {
   "cell_type": "code",
   "execution_count": 14,
   "metadata": {
    "collapsed": false
   },
   "outputs": [
    {
     "name": "stdout",
     "output_type": "stream",
     "text": [
      "Number of genes in functional network: 5483\n",
      "Number of genes in interactions: 3391\n",
      "Number of seed sets: 2913\n"
     ]
    },
    {
     "data": {
      "image/png": "[encoded data removed]",
      "text/plain": [
       "<matplotlib.figure.Figure at 0x7ff88212c048>"
      ]
     },
     "metadata": {},
     "output_type": "display_data"
    }
   ],
   "source": [
    "%run func_net_pred 'Synthetic Growth Defect'"
   ]
  },
  {
   "cell_type": "code",
   "execution_count": 15,
   "metadata": {
    "collapsed": false
   },
   "outputs": [
    {
     "name": "stdout",
     "output_type": "stream",
     "text": [
      "Number of genes in functional network: 5483\n",
      "Number of genes in interactions: 3803\n",
      "Number of seed sets: 3171\n"
     ]
    },
    {
     "data": {
      "image/png": "[encoded data removed]",
      "text/plain": [
       "<matplotlib.figure.Figure at 0x7ff871481c88>"
      ]
     },
     "metadata": {},
     "output_type": "display_data"
    }
   ],
   "source": [
    "%run func_net_pred 'Positive Genetic'"
   ]
  },
  {
   "cell_type": "code",
   "execution_count": 16,
   "metadata": {
    "collapsed": false
   },
   "outputs": [
    {
     "name": "stdout",
     "output_type": "stream",
     "text": [
      "Number of genes in functional network: 5483\n",
      "Number of genes in interactions: 2153\n",
      "Number of seed sets: 1798\n"
     ]
    },
    {
     "data": {
      "image/png": "[encoded data removed]",
      "text/plain": [
       "<matplotlib.figure.Figure at 0x7ff88181a320>"
      ]
     },
     "metadata": {},
     "output_type": "display_data"
    }
   ],
   "source": [
    "%run func_net_pred 'Synthetic Rescue'"
   ]
  },
  {
   "cell_type": "code",
   "execution_count": 17,
   "metadata": {
    "collapsed": false
   },
   "outputs": [
    {
     "name": "stdout",
     "output_type": "stream",
     "text": [
      "Number of genes in functional network: 5483\n",
      "Number of genes in interactions: 932\n",
      "Number of seed sets: 610\n"
     ]
    },
    {
     "data": {
      "image/png": "[encoded data removed]",
      "text/plain": [
       "<matplotlib.figure.Figure at 0x7ff8b2898a90>"
      ]
     },
     "metadata": {},
     "output_type": "display_data"
    }
   ],
   "source": [
    "%run func_net_pred 'Dosage Lethality'"
   ]
  },
  {
   "cell_type": "code",
   "execution_count": 18,
   "metadata": {
    "collapsed": false
   },
   "outputs": [
    {
     "name": "stdout",
     "output_type": "stream",
     "text": [
      "Number of genes in functional network: 5483\n",
      "Number of genes in interactions: 1192\n",
      "Number of seed sets: 1001\n"
     ]
    },
    {
     "data": {
      "image/png": "[encoded data removed]",
      "text/plain": [
       "<matplotlib.figure.Figure at 0x7ff881230860>"
      ]
     },
     "metadata": {},
     "output_type": "display_data"
    }
   ],
   "source": [
    "%run func_net_pred 'Dosage Growth Defect'"
   ]
  },
  {
   "cell_type": "code",
   "execution_count": 19,
   "metadata": {
    "collapsed": false
   },
   "outputs": [
    {
     "name": "stdout",
     "output_type": "stream",
     "text": [
      "Number of genes in functional network: 5483\n",
      "Number of genes in interactions: 274\n",
      "Number of seed sets: 259\n"
     ]
    },
    {
     "data": {
      "image/png": "[encoded data removed]",
      "text/plain": [
       "<matplotlib.figure.Figure at 0x7ff870873c88>"
      ]
     },
     "metadata": {},
     "output_type": "display_data"
    }
   ],
   "source": [
    "%run func_net_pred 'Synthetic Haploinsufficiency'"
   ]
  },
  {
   "cell_type": "markdown",
   "metadata": {},
   "source": [
    "---"
   ]
  },
  {
   "cell_type": "markdown",
   "metadata": {},
   "source": [
    "# Output Gene Names in Predictive Seed Sets\n",
    "\n",
    "**2015 August 7**\n",
    "\n",
    "Since the official symbols were used for both the functional network and BIOGRID, no ID conversion is needed. "
   ]
  },
  {
   "cell_type": "code",
   "execution_count": 20,
   "metadata": {
    "collapsed": false
   },
   "outputs": [
    {
     "name": "stdout",
     "output_type": "stream",
     "text": [
      "Number of genes in functional network: 5483\n",
      "Number of genes in interactions: 1436\n",
      "Number of seed sets: 1167\n"
     ]
    }
   ],
   "source": [
    "%run func_net_pred 'Dosage Rescue'"
   ]
  },
  {
   "cell_type": "markdown",
   "metadata": {},
   "source": [
    "Repeated for the other interaction types."
   ]
  },
  {
   "cell_type": "markdown",
   "metadata": {
    "collapsed": true
   },
   "source": [
    "---"
   ]
  },
  {
   "cell_type": "markdown",
   "metadata": {},
   "source": [
    "# Validation\n",
    "\n",
    "**2015 August 14-15, 19, 21, 26, 28**\n",
    "\n",
    "One validation strategy is to use a time-split approach. Find predictive seed gene sets using genetic interactions from a certain time period, and then validate those predictions using genetic interaction data determined after that time period. An important consideration is that YeastNet v2 uses data from BIOGRID downloaded June 2006. (What about YeastNet v1??) If using YeastNet v2, an approach could involve predicting on interactions from 2007-2009, and then validating on 2010-present (which would include the 2010 Costanzo SGA study). \n",
    "\n",
    "<s>It would be informative to identify the breakdown of the years of sources from BIOGRID (e.g. how many sources are of a given year).</s>\n",
    "\n",
    "Make 3 sets of genetic interactions: 1) pre-2007 2) 2007-2009 3) 2010-present. Check that they are mutually exclusive. "
   ]
  },
  {
   "cell_type": "code",
   "execution_count": 4,
   "metadata": {
    "collapsed": true
   },
   "outputs": [],
   "source": [
    "def get_gene_pairs(interactionType, year1, year2):\n",
    "    \"\"\"\n",
    "    Retrieve genetically interacting pairs from certain years\n",
    "    INPUT:\n",
    "        <int> years (inclusive) that source year should fall within\n",
    "    OUTPUT:\n",
    "        <set> genetically interacting pairs\n",
    "    \"\"\"\n",
    "    genePairs = set()\n",
    "    os.chdir('/work/jyoung/DataDownload/BIOGRID/BIOGRID-ORGANISM-3.4.127.tab2')\n",
    "    readFile = open('BIOGRID-ORGANISM-Saccharomyces_cerevisiae_S288c-3.4.127.tab2.txt')\n",
    "    header = readFile.readline().rstrip().split('\\t')\n",
    "    authorCol = header.index('Author')\n",
    "    interactionTypeCol = header.index('Experimental System')\n",
    "    for line in readFile:\n",
    "        tokens = line.rstrip().split('\\t')\n",
    "        if tokens[interactionTypeCol] == interactionType:\n",
    "            author = tokens[authorCol]\n",
    "            year = int(re.search(r'\\((\\d+)\\)', author).group(1))\n",
    "            if year >= year1 and year <= year2:\n",
    "                if tokens[7] != tokens[8]:  # e.g. CDC15\n",
    "                    genePairs.add(frozenset({tokens[7], tokens[8]}))\n",
    "    readFile.close()\n",
    "    return genePairs"
   ]
  },
  {
   "cell_type": "code",
   "execution_count": 5,
   "metadata": {
    "collapsed": false
   },
   "outputs": [],
   "source": [
    "pre2007 = get_gene_pairs('Dosage Rescue', 1900, 2006)\n",
    "from2007to2009 = get_gene_pairs('Dosage Rescue', 2007, 2009)\n",
    "after2009 = get_gene_pairs('Dosage Rescue', 2010, 2015)"
   ]
  },
  {
   "cell_type": "code",
   "execution_count": 29,
   "metadata": {
    "collapsed": false
   },
   "outputs": [
    {
     "data": {
      "text/plain": [
       "[frozenset({'CDC42', 'CLA4'}),\n",
       " frozenset({'GLO3', 'SEC22'}),\n",
       " frozenset({'MEX67', 'MTR2'})]"
      ]
     },
     "execution_count": 29,
     "metadata": {},
     "output_type": "execute_result"
    }
   ],
   "source": [
    "list(pre2007 & from2007to2009)[:3]"
   ]
  },
  {
   "cell_type": "markdown",
   "metadata": {},
   "source": [
    "So the gene sets aren't mutually exclusive, even for a given interaction type. Thus the genetic interaction sets will have to updated to ensure they are pairwise disjoint. For now, only the interactions from 2007-2009 will need to be written out to a file."
   ]
  },
  {
   "cell_type": "code",
   "execution_count": 5,
   "metadata": {
    "collapsed": true
   },
   "outputs": [],
   "source": [
    "def write_disjoint_gene_sets(timeSet, interactionType):\n",
    "    \"\"\"\n",
    "    INPUT: <string> type of genetic interaction\n",
    "    \"\"\"\n",
    "    pre2007 = get_gene_pairs(interactionType, 1900, 2006)\n",
    "    incl0709 = get_gene_pairs(interactionType, 2007, 2009)\n",
    "    post2009 = get_gene_pairs(interactionType, 2010, 2015)\n",
    "    pre2007 = pre2007 - (incl0709 | post2009)\n",
    "    incl0709 = incl0709 - post2009\n",
    "    str2var = {'pre2007': pre2007, 'incl0709': incl0709, 'post2009': post2009}\n",
    "    os.chdir('/work/jyoung/genetic_interact/data/yeast_time_split')\n",
    "    timeSetFile = open(timeSet + '-' + ''.join(interactionType.split()) + '.txt', 'w')\n",
    "    for pair in str2var[timeSet]:\n",
    "        timeSetFile.write('\\t'.join(pair) + '\\n')\n",
    "    timeSetFile.close()"
   ]
  },
  {
   "cell_type": "code",
   "execution_count": 6,
   "metadata": {
    "collapsed": true
   },
   "outputs": [],
   "source": [
    "timeSplits = ('pre2007', 'incl0709', 'post2009')"
   ]
  },
  {
   "cell_type": "code",
   "execution_count": 7,
   "metadata": {
    "collapsed": true
   },
   "outputs": [],
   "source": [
    "interactionTypes = ('Dosage Rescue', 'Phenotypic Suppression', 'Negative Genetic', \n",
    "                    'Phenotypic Enhancement', 'Synthetic Lethality', 'Synthetic Growth Defect', \n",
    "                    'Positive Genetic', 'Synthetic Rescue', 'Dosage Lethality', \n",
    "                    'Dosage Growth Defect', 'Synthetic Haploinsufficiency')"
   ]
  },
  {
   "cell_type": "code",
   "execution_count": 8,
   "metadata": {
    "collapsed": false
   },
   "outputs": [],
   "source": [
    "for x in itertools.product(timeSplits, interactionTypes):\n",
    "    write_disjoint_gene_sets(x[0], x[1])"
   ]
  },
  {
   "cell_type": "markdown",
   "metadata": {
    "collapsed": true
   },
   "source": [
    "**2015 August 24-28**\n",
    "\n",
    "Add to the *func_net_pred.py* script code to output predicted interactors and assess performance. \n",
    "\n",
    "Regarding the validation of the predictions, a predicted interactor will be called positive if it shows up in the post-2009 set and not in the pre-2007 set. It will be called negative if it shows up in neither the pre-2007 nor the post-2009 sets. \n",
    "\n",
    "NOTE: <br>\n",
    "BIOGRID interaction ID 644337 has CDC15 (YAR019C) interacting with itself. This causes problems when using storing genetically interacting pairs in *frozenset* as done in *get_gene_pairs( )* above. "
   ]
  },
  {
   "cell_type": "code",
   "execution_count": null,
   "metadata": {
    "collapsed": true
   },
   "outputs": [],
   "source": []
  }
 ],
 "metadata": {
  "kernelspec": {
   "display_name": "Python 3",
   "language": "python",
   "name": "python3"
  },
  "language_info": {
   "codemirror_mode": {
    "name": "ipython",
    "version": 3
   },
   "file_extension": ".py",
   "mimetype": "text/x-python",
   "name": "python",
   "nbconvert_exporter": "python",
   "pygments_lexer": "ipython3",
   "version": "3.4.3"
  }
 },
 "nbformat": 4,
 "nbformat_minor": 0
}
