{
 "metadata": {
  "name": "",
  "signature": "sha256:e7faa6e343e4d9518cb9d91d46ee62eee8d0d0708eadbd334c251b19c3586460"
 },
 "nbformat": 3,
 "nbformat_minor": 0,
 "worksheets": [
  {
   "cells": [
    {
     "cell_type": "markdown",
     "metadata": {},
     "source": [
      "**2015 July 4-**\n",
      "\n",
      "Previously, in Lee et al. \"Predicting genetic modifier loci using functional gene networks\" (2010), yeast genetic interactions were predicted using the functional network approach. The sources for the seed data were:\n",
      "\n",
      "- Tong AH et al. 2004. Global mapping of the yeast genetic interaction network. Science 303:808. PMID 14764870.\n",
      "- Davierwala AP et al. 2005. The synthetic genetic interaction spectrum of essential genes. Nat Genet 37:1147. PMID 16155567.\n",
      "\n",
      "The objective now is to evaluate the functional network approach on newer and more complete interaction data. The sources listed above will need to be excluded from this analysis. The BIOGRID database has entries for \"Author\" and \"Pubmed ID\". Checking whether the Tong AH (2004) and Davierwala AP (2005) papers are listed in version 3.3.124:"
     ]
    },
    {
     "cell_type": "code",
     "collapsed": false,
     "input": [
      "%%bash\n",
      "cd /work/jyoung/DataDownload/BIOGRID/BIOGRID-ORGANISM-3.3.124.tab2/\n",
      "grep 14764870 BIOGRID-ORGANISM-Saccharomyces_cerevisiae_S288c-3.3.124.tab2.txt | wc -l"
     ],
     "language": "python",
     "metadata": {},
     "outputs": [
      {
       "output_type": "stream",
       "stream": "stdout",
       "text": [
        "4369\n"
       ]
      }
     ],
     "prompt_number": 1
    },
    {
     "cell_type": "code",
     "collapsed": false,
     "input": [
      "%%bash\n",
      "cd /work/jyoung/DataDownload/BIOGRID/BIOGRID-ORGANISM-3.3.124.tab2/\n",
      "grep 14764870 BIOGRID-ORGANISM-Saccharomyces_cerevisiae_S288c-3.3.124.tab2.txt | head -1"
     ],
     "language": "python",
     "metadata": {},
     "outputs": [
      {
       "output_type": "stream",
       "stream": "stdout",
       "text": [
        "108850\t855450\t851373\t35569\t31885\tYNL271C\tYDL225W\tBNI1\tSHS1\tPPF3|SHE5|formin BNI1|L000000190\tSEP7|septin SHS1\tSynthetic Lethality\tgenetic\tTong AH (2004)\t14764870\t559292\t559292\tHigh Throughput\t-\t-\tinviable\t-\t-\tBIOGRID\n"
       ]
      }
     ],
     "prompt_number": 2
    },
    {
     "cell_type": "code",
     "collapsed": false,
     "input": [
      "%%bash\n",
      "cd /work/jyoung/DataDownload/BIOGRID/BIOGRID-ORGANISM-3.3.124.tab2/\n",
      "grep 16155567 BIOGRID-ORGANISM-Saccharomyces_cerevisiae_S288c-3.3.124.tab2.txt | wc -l"
     ],
     "language": "python",
     "metadata": {},
     "outputs": [
      {
       "output_type": "stream",
       "stream": "stdout",
       "text": [
        "567\n"
       ]
      }
     ],
     "prompt_number": 3
    },
    {
     "cell_type": "code",
     "collapsed": false,
     "input": [
      "%%bash\n",
      "cd /work/jyoung/DataDownload/BIOGRID/BIOGRID-ORGANISM-3.3.124.tab2/\n",
      "grep 16155567 BIOGRID-ORGANISM-Saccharomyces_cerevisiae_S288c-3.3.124.tab2.txt | head -1"
     ],
     "language": "python",
     "metadata": {},
     "outputs": [
      {
       "output_type": "stream",
       "stream": "stdout",
       "text": [
        "484166\t851532\t852538\t32027\t32931\tYDL029W\tYBR236C\tARP2\tABD1\tACT2|actin-related protein 2|L000000026\tL000000011\tSynthetic Growth Defect\tgenetic\tDavierwala AP (2005)\t16155567\t559292\t559292\tHigh Throughput\t-\t-\tvegetative growth\tSGA screen\t-\tBIOGRID\n"
       ]
      }
     ],
     "prompt_number": 4
    },
    {
     "cell_type": "markdown",
     "metadata": {},
     "source": [
      "Also checking the Costanzo 2010 Science paper:"
     ]
    },
    {
     "cell_type": "code",
     "collapsed": false,
     "input": [
      "%%bash\n",
      "cd /work/jyoung/DataDownload/BIOGRID/BIOGRID-ORGANISM-3.3.124.tab2/\n",
      "grep 20093466 BIOGRID-ORGANISM-Saccharomyces_cerevisiae_S288c-3.3.124.tab2.txt | wc -l"
     ],
     "language": "python",
     "metadata": {},
     "outputs": [
      {
       "output_type": "stream",
       "stream": "stdout",
       "text": [
        "68087\n"
       ]
      }
     ],
     "prompt_number": 5
    },
    {
     "cell_type": "code",
     "collapsed": false,
     "input": [
      "%%bash\n",
      "cd /work/jyoung/DataDownload/BIOGRID/BIOGRID-ORGANISM-3.3.124.tab2/\n",
      "grep 20093466 BIOGRID-ORGANISM-Saccharomyces_cerevisiae_S288c-3.3.124.tab2.txt | head -1"
     ],
     "language": "python",
     "metadata": {},
     "outputs": [
      {
       "output_type": "stream",
       "stream": "stdout",
       "text": [
        "354378\t851236\t850395\t31767\t31012\tYAL063C\tYCR028C-A\tFLO9\tRIM1\tflocculin FLO9|L000003331\tL000001640\tNegative Genetic\tgenetic\tCostanzo M (2010)\t20093466\t559292\t559292\tHigh Throughput\t-0.1969\t-\tcolony size\tA Synthetic Genetic Array (SGA) analysis was carried out to quantitatively score genetic interactions based on fitness defects that were estimated from the colony size of double versus single mutants. Genetic interactions were considered significant if they had an SGA score of epsilon > 0.08 for positive interactions and epsilon < -0.08 for negative interactions, and a p-value < 0.05.\t-\tBIOGRID\n"
       ]
      }
     ],
     "prompt_number": 6
    },
    {
     "cell_type": "code",
     "collapsed": false,
     "input": [],
     "language": "python",
     "metadata": {},
     "outputs": []
    }
   ],
   "metadata": {}
  }
 ]
}