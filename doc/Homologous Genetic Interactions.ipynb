{
 "cells": [
  {
   "cell_type": "code",
   "execution_count": 1,
   "metadata": {
    "collapsed": true
   },
   "outputs": [],
   "source": [
    "import matplotlib"
   ]
  },
  {
   "cell_type": "code",
   "execution_count": 2,
   "metadata": {
    "collapsed": true
   },
   "outputs": [],
   "source": [
    "matplotlib.use('Agg')"
   ]
  },
  {
   "cell_type": "code",
   "execution_count": 3,
   "metadata": {
    "collapsed": true
   },
   "outputs": [],
   "source": [
    "%matplotlib inline"
   ]
  },
  {
   "cell_type": "code",
   "execution_count": 1,
   "metadata": {
    "collapsed": true
   },
   "outputs": [],
   "source": [
    "import collections"
   ]
  },
  {
   "cell_type": "code",
   "execution_count": 2,
   "metadata": {
    "collapsed": true
   },
   "outputs": [],
   "source": [
    "import csv"
   ]
  },
  {
   "cell_type": "code",
   "execution_count": 3,
   "metadata": {
    "collapsed": true
   },
   "outputs": [],
   "source": [
    "import itertools"
   ]
  },
  {
   "cell_type": "code",
   "execution_count": 4,
   "metadata": {
    "collapsed": true
   },
   "outputs": [],
   "source": [
    "import numpy as np"
   ]
  },
  {
   "cell_type": "code",
   "execution_count": 4,
   "metadata": {
    "collapsed": true
   },
   "outputs": [],
   "source": [
    "import os"
   ]
  },
  {
   "cell_type": "code",
   "execution_count": 6,
   "metadata": {
    "collapsed": true
   },
   "outputs": [],
   "source": [
    "import scipy.special"
   ]
  },
  {
   "cell_type": "code",
   "execution_count": 7,
   "metadata": {
    "collapsed": true
   },
   "outputs": [],
   "source": [
    "import scipy.stats as stats"
   ]
  },
  {
   "cell_type": "code",
   "execution_count": 8,
   "metadata": {
    "collapsed": true
   },
   "outputs": [],
   "source": [
    "from statsmodels.sandbox.stats.multicomp import fdrcorrection0"
   ]
  },
  {
   "cell_type": "code",
   "execution_count": 9,
   "metadata": {
    "collapsed": true
   },
   "outputs": [],
   "source": [
    "from sklearn import metrics"
   ]
  },
  {
   "cell_type": "markdown",
   "metadata": {},
   "source": [
    "---"
   ]
  },
  {
   "cell_type": "code",
   "execution_count": 10,
   "metadata": {
    "collapsed": true
   },
   "outputs": [],
   "source": [
    "os.chdir('/work/jyoung')"
   ]
  },
  {
   "cell_type": "code",
   "execution_count": 11,
   "metadata": {
    "collapsed": true
   },
   "outputs": [],
   "source": [
    "import pyuserfcn"
   ]
  },
  {
   "cell_type": "code",
   "execution_count": 5,
   "metadata": {
    "collapsed": true
   },
   "outputs": [],
   "source": [
    "os.chdir('/work/jyoung/genetic_interact/src')"
   ]
  },
  {
   "cell_type": "code",
   "execution_count": 13,
   "metadata": {
    "collapsed": true
   },
   "outputs": [],
   "source": [
    "import func_net_pred"
   ]
  },
  {
   "cell_type": "markdown",
   "metadata": {},
   "source": [
    "---\n",
    "\n",
    "**2015 September 9**\n",
    "\n",
    "Start with *Saccharomyces cerevisiae*. For predictive seed sets (0.8 &le; AUC < 1.0), examine all possible pairs and count the number of genetic interactions between them. Execute for each type of genetic interaction. Seed sets are from BIOGRID v3.4.127 with all interactions before 2007 removed. \n",
    "\n",
    "**2015 September 10, 14**\n",
    "\n",
    "It is not feasible to only examine all of the counts. There are 240 seed gene sets with 0.8 &le; AUC < 1.0, which yields 28680 total pairs - far too many to examine one-by-one. Try using a binomial distribution to calculate the significance of interaction between seed sets. Suppose the number of genes in the 1<sup>st</sup> seed set is *n*<sub>1</sub>, the number of genes in the 2<sup>nd</sup> seed set is n<sub>2</sub>, and the number of interactions between the sets is *k*. The question is what to use for the probability *p* of a \"success.\" Should it be 1 divided by the total number of all interacting pairs? The overall total number of pairs that were tested is not known, so it is not possible to calculate the number of interacting pairs divided by the number tested. Could the number of genes in the interaction set choose 2 be used instead? "
   ]
  },
  {
   "cell_type": "code",
   "execution_count": 14,
   "metadata": {
    "collapsed": true
   },
   "outputs": [],
   "source": [
    "experimentSys = 'Dosage Growth Defect'"
   ]
  },
  {
   "cell_type": "code",
   "execution_count": 15,
   "metadata": {
    "collapsed": true
   },
   "outputs": [],
   "source": [
    "node2edgewt = func_net_pred.process_func_net()\n",
    "gene2idx = func_net_pred.assign_gene_indices(node2edgewt)"
   ]
  },
  {
   "cell_type": "code",
   "execution_count": 16,
   "metadata": {
    "collapsed": true
   },
   "outputs": [],
   "source": [
    "matrixPath = '/work/jyoung/genetic_interact/data/YeastNet2_adj_matrix.npy'\n",
    "adjMat = np.load(matrixPath)"
   ]
  },
  {
   "cell_type": "code",
   "execution_count": 13,
   "metadata": {
    "collapsed": false
   },
   "outputs": [
    {
     "data": {
      "text/plain": [
       "5483"
      ]
     },
     "execution_count": 13,
     "metadata": {},
     "output_type": "execute_result"
    }
   ],
   "source": [
    "len(gene2idx.keys())  # number of genes in functional net"
   ]
  },
  {
   "cell_type": "code",
   "execution_count": 17,
   "metadata": {
    "collapsed": false
   },
   "outputs": [
    {
     "name": "stdout",
     "output_type": "stream",
     "text": [
      "Number of genes in interactions: 1192\n"
     ]
    }
   ],
   "source": [
    "seedSets = func_net_pred.read_biogrid(experimentSys)"
   ]
  },
  {
   "cell_type": "markdown",
   "metadata": {},
   "source": [
    "Find number of BIOGRID interacting pairs:"
   ]
  },
  {
   "cell_type": "code",
   "execution_count": 18,
   "metadata": {
    "collapsed": true
   },
   "outputs": [],
   "source": [
    "biogridInteracts = set()\n",
    "for seed in seedSets.keys():\n",
    "    for interactor in seedSets[seed]:\n",
    "        biogridInteracts.update([(seed, interactor), (interactor, seed)])"
   ]
  },
  {
   "cell_type": "code",
   "execution_count": 29,
   "metadata": {
    "collapsed": false
   },
   "outputs": [
    {
     "data": {
      "text/plain": [
       "3712"
      ]
     },
     "execution_count": 29,
     "metadata": {},
     "output_type": "execute_result"
    }
   ],
   "source": [
    "len(biogridInteracts)  # number of interacting pairs in BIOGRID"
   ]
  },
  {
   "cell_type": "code",
   "execution_count": 19,
   "metadata": {
    "collapsed": true
   },
   "outputs": [],
   "source": [
    "seedAUC, seed2interactors = func_net_pred.seed_set_predictability(gene2idx, adjMat, seedSets)"
   ]
  },
  {
   "cell_type": "markdown",
   "metadata": {},
   "source": [
    "Now it is possible to find the number of interacting pairs where both genes are in network:"
   ]
  },
  {
   "cell_type": "code",
   "execution_count": 20,
   "metadata": {
    "collapsed": true
   },
   "outputs": [],
   "source": [
    "inNetwkInteracts = set()\n",
    "for seed in seed2interactors.keys():\n",
    "    for interactor in seed2interactors[seed]:\n",
    "        inNetwkInteracts.update([(seed, interactor), (interactor, seed)])"
   ]
  },
  {
   "cell_type": "code",
   "execution_count": 21,
   "metadata": {
    "collapsed": false
   },
   "outputs": [
    {
     "data": {
      "text/plain": [
       "3130"
      ]
     },
     "execution_count": 21,
     "metadata": {},
     "output_type": "execute_result"
    }
   ],
   "source": [
    "len(inNetwkInteracts)"
   ]
  },
  {
   "cell_type": "markdown",
   "metadata": {},
   "source": [
    "Create a list containing predictive seed genes."
   ]
  },
  {
   "cell_type": "code",
   "execution_count": 22,
   "metadata": {
    "collapsed": true
   },
   "outputs": [],
   "source": [
    "lowerAUC = 0.8\n",
    "upperAUC = 1.0"
   ]
  },
  {
   "cell_type": "code",
   "execution_count": 23,
   "metadata": {
    "collapsed": true
   },
   "outputs": [],
   "source": [
    "predictiveSeeds = list()\n",
    "for p in seedAUC:  # p=(AUC, gene)\n",
    "    if p[0] >= lowerAUC and p[0] < upperAUC:\n",
    "        predictiveSeeds.append(p[1])"
   ]
  },
  {
   "cell_type": "code",
   "execution_count": 23,
   "metadata": {
    "collapsed": false
   },
   "outputs": [
    {
     "data": {
      "text/plain": [
       "240"
      ]
     },
     "execution_count": 23,
     "metadata": {},
     "output_type": "execute_result"
    }
   ],
   "source": [
    "len(predictiveSeeds)"
   ]
  },
  {
   "cell_type": "markdown",
   "metadata": {},
   "source": [
    "How many interacting pairs are there for predictive seeds?"
   ]
  },
  {
   "cell_type": "code",
   "execution_count": 21,
   "metadata": {
    "collapsed": true
   },
   "outputs": [],
   "source": [
    "interactPairs = set()\n",
    "for seed in predictiveSeeds:\n",
    "    for interactor in seed2interactors[seed]:\n",
    "        interactPairs.update([(seed, interactor), (interactor, seed)])"
   ]
  },
  {
   "cell_type": "code",
   "execution_count": 19,
   "metadata": {
    "collapsed": false
   },
   "outputs": [
    {
     "data": {
      "text/plain": [
       "1624"
      ]
     },
     "execution_count": 19,
     "metadata": {},
     "output_type": "execute_result"
    }
   ],
   "source": [
    "len(interactPairs)  # number of interacting pairs (for predictive seed)"
   ]
  },
  {
   "cell_type": "markdown",
   "metadata": {},
   "source": [
    "Compute statistics for each pair of interactor sets. Try a binomial distributed null model. \n",
    "\n",
    "**2015 September 14**\n",
    "\n",
    "The question of what the probability *p* of a \"success\" should be is not clear. The total number of genes among all interacting pairs could be used, but this might be overly conservative. "
   ]
  },
  {
   "cell_type": "code",
   "execution_count": 24,
   "metadata": {
    "collapsed": false
   },
   "outputs": [
    {
     "name": "stdout",
     "output_type": "stream",
     "text": [
      "Number of genes in network among all interactions: 1001\n"
     ]
    }
   ],
   "source": [
    "numGenes = len(set(itertools.chain.from_iterable(inNetwkInteracts)))\n",
    "print('Number of genes in network among all interactions:', numGenes)\n",
    "p = len(inNetwkInteracts)/scipy.special.binom(numGenes, 2)\n",
    "results = list()\n",
    "for seedPair in itertools.combinations(predictiveSeeds, 2):  # seedPair=(seed1, seed2)\n",
    "    interactionCount = 0\n",
    "    num1stSet = len(seed2interactors[seedPair[0]])\n",
    "    num2ndSet = len(seed2interactors[seedPair[1]])\n",
    "    for genePair in itertools.product(seed2interactors[seedPair[0]], seed2interactors[seedPair[1]]):\n",
    "        if genePair in inNetwkInteracts:\n",
    "            interactionCount += 1\n",
    "    n = num1stSet * num2ndSet\n",
    "    pval = stats.binom.pmf(interactionCount, n, p) + stats.binom.sf(interactionCount, n, p)\n",
    "    results.append((num1stSet, num2ndSet, interactionCount, pval))"
   ]
  },
  {
   "cell_type": "code",
   "execution_count": 25,
   "metadata": {
    "collapsed": false
   },
   "outputs": [
    {
     "data": {
      "text/plain": [
       "28680"
      ]
     },
     "execution_count": 25,
     "metadata": {},
     "output_type": "execute_result"
    }
   ],
   "source": [
    "len(results)"
   ]
  },
  {
   "cell_type": "markdown",
   "metadata": {},
   "source": [
    "Is there any statistical significance at some FDR level? Try using Benjamini-Hochberg to control FDR at 5%. "
   ]
  },
  {
   "cell_type": "code",
   "execution_count": 26,
   "metadata": {
    "collapsed": true
   },
   "outputs": [],
   "source": [
    "pvals = [x[3] for x in results]"
   ]
  },
  {
   "cell_type": "code",
   "execution_count": 27,
   "metadata": {
    "collapsed": true
   },
   "outputs": [],
   "source": [
    "rejected, pvalsCor = fdrcorrection0(pvals)"
   ]
  },
  {
   "cell_type": "code",
   "execution_count": 28,
   "metadata": {
    "collapsed": false
   },
   "outputs": [
    {
     "data": {
      "text/plain": [
       "3794"
      ]
     },
     "execution_count": 28,
     "metadata": {},
     "output_type": "execute_result"
    }
   ],
   "source": [
    "np.sum(rejected)"
   ]
  },
  {
   "cell_type": "markdown",
   "metadata": {},
   "source": [
    "Create directory to store text files in CSV format containing results.\n",
    "\n",
    "    cd /work/jyoung/genetic_interact/results\n",
    "    mkdir YeastInteractClust"
   ]
  },
  {
   "cell_type": "code",
   "execution_count": 33,
   "metadata": {
    "collapsed": true
   },
   "outputs": [],
   "source": [
    "os.chdir('/work/jyoung/genetic_interact/results/YeastInteractClust')"
   ]
  },
  {
   "cell_type": "code",
   "execution_count": 34,
   "metadata": {
    "collapsed": false
   },
   "outputs": [],
   "source": [
    "with open(''.join(experimentSys.split()) + 'Stats.txt', 'w', newline='') as csvfile:\n",
    "    csvwriter = csv.writer(csvfile)\n",
    "    csvwriter.writerow(['# genes in 1st set', '# genes in 2nd set', '# interactions btw sets', 'p-value'])\n",
    "    for t in results:\n",
    "        csvwriter.writerow(t)"
   ]
  },
  {
   "cell_type": "markdown",
   "metadata": {
    "collapsed": true
   },
   "source": [
    "**2015 September 10-11, 13-14**\n",
    "\n",
    "Put the code above into a script so that results can be easily output for a given species and genetic interaction type. \n",
    "\n",
    "**2015 September 21**\n",
    "\n",
    "It is important to note that the seed sets need to be carefully combined. For example, one seed set could be {a, b, c} and another could be {a, b, c, d}. The seed sets will be combined based on their overlap measured by the Jaccard index. The algorithm for combining them will start by considering all possible pairs of sets. If the intersection of each pair is greater than or equal to the Jaccard index, then a new set is formed by the union of the pair. Otherwise, the two sets in the pair are retained. Any set that was involved in a union is removed (unless one was a subset of the other). Now we have a new collection of sets, and the process of comparing pairs of these sets is repeated. The algorithm ends when no further unions are made. \n",
    "\n",
    "A script named *combining_sets_test.py* was written to test this algorithm. \n",
    "\n",
    "**2015 September 26**\n",
    "\n",
    "Modify *clust_intact.py* to utilize the approach in *combining_sets_test.py* to combine the sets of genetic interactors. \n",
    "\n",
    "**2015 September 30**\n",
    "\n",
    "Finished 1<sup>st</sup> working draft of *clust_intact.py* and began gathering results. \"Synthetic Lethality\" is taking an extremely long time to run... Noticed on October 3 that it finished running, so runtime was ~72 hrs.\n",
    "\n",
    "**2015 October 1-2**\n",
    "\n",
    "Adding code to *clust_intact.py* to write out input file for network visualization. *clust_intact.py* for synthetic lethality is still running, so a copy of it (with the added code) named *clust_intact_2.py* was created. A first look at the network for dosage rescue was visualized. *clust_intact_2.py* is intended to be temporary and will be subsumed by *clust_intact.py* once/if it finishes running for synthetic lethality. \n",
    "\n",
    "**2015 October 5-6**\n",
    "\n",
    "*clust_intact_2.py* was re-named (and overwrote) *clust_intact.py*, which now contains code to plot networks. Currently, the networks are being examined for correctness and are used to see if the code is doing what it is intended to. Efforts to visualize the network using D3.js are on-hold, as NetworkX is currently sufficient. \n",
    "\n",
    "**2015 October 7**\n",
    "\n",
    "Consider the following network:"
   ]
  },
  {
   "cell_type": "code",
   "execution_count": 6,
   "metadata": {
    "collapsed": false
   },
   "outputs": [
    {
     "name": "stdout",
     "output_type": "stream",
     "text": [
      "Number of genes in functional network: 5483 \n",
      "\n",
      "Number of predictive seed genes: 170 \n",
      "\n",
      "The minimum Jaccard index is 0.5 \n",
      "\n",
      "Number of set pairs: 8778 \n",
      "\n",
      "Number of significant interacting pairs (5% FDR): 98 \n",
      "\n",
      "\n",
      "The genes in the 1st cluster are:\n",
      "frozenset({'RPL37A', 'UTP9', 'RPL6A', 'RPL35A', 'RPL17A', 'RPS1B', 'RPL41A', 'LSG1', 'SSF2', 'RPL11A', 'RPL43A', 'RPS26A', 'NOC3', 'RPL16B', 'RPS8A', 'PPS1', 'RPL42A', 'ARC1', 'RPS6A', 'RLP7', 'YVH1'})\n",
      "\n",
      "The genes in the 2nd cluster are:\n",
      "frozenset({'TCP1', 'CCT6', 'RPL12B', 'CCT2', 'CCT4', 'MRT4', 'CCT3'})\n"
     ]
    },
    {
     "data": {
      "image/png": "[encoded data removed]",
      "text/plain": [
       "<matplotlib.figure.Figure at 0x7fed2796bf60>"
      ]
     },
     "metadata": {},
     "output_type": "display_data"
    }
   ],
   "source": [
    "%run clust_intact 'Dosage Rescue' 'yeast'"
   ]
  },
  {
   "cell_type": "markdown",
   "metadata": {
    "collapsed": true
   },
   "source": [
    "Here, the genetic interaction type is dosage rescue for *S. cerevisiae*. The lower limit of predictability for seed gene sets is set to AUC = 0.9. The network shown has the most significant number of genetic interactions between two gene sets. Each gene set was formed from combining seed sets based on the Jaccard index. \n",
    "\n",
    "Clearly, the genes RPL41A and PPS1 have no functional partners. At first glance, this might indicate a coding error, but it turns out that there is no error. For a seed set to be predictive, not all of its members need to have high LLS sums although most of them should. RPL41A and PPS1 have LLS sums of 0.0 (their interactor is CCT4) and the rest of the genes in the set have relatively high ranks and LLS sums. The relevant code snippet for checking this is:\n",
    "\n",
    "    argSortedSums = np.argsort(llsSum)[::-1]\n",
    "    for g in seedSets[seedGene]:\n",
    "        rank = np.where(argSortedSums == gene2idx[g])[0][0]\n",
    "        score = llsSum[gene2idx[g]]\n",
    "        print('The rank of', g, 'is', rank, 'with LLS sum', score)"
   ]
  },
  {
   "cell_type": "code",
   "execution_count": null,
   "metadata": {
    "collapsed": true
   },
   "outputs": [],
   "source": []
  }
 ],
 "metadata": {
  "kernelspec": {
   "display_name": "Python 3",
   "language": "python",
   "name": "python3"
  },
  "language_info": {
   "codemirror_mode": {
    "name": "ipython",
    "version": 3
   },
   "file_extension": ".py",
   "mimetype": "text/x-python",
   "name": "python",
   "nbconvert_exporter": "python",
   "pygments_lexer": "ipython3",
   "version": "3.4.3"
  }
 },
 "nbformat": 4,
 "nbformat_minor": 0
}
