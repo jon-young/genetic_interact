{
 "cells": [
  {
   "cell_type": "code",
   "execution_count": 3,
   "metadata": {
    "collapsed": true
   },
   "outputs": [],
   "source": [
    "import importlib"
   ]
  },
  {
   "cell_type": "code",
   "execution_count": 1,
   "metadata": {
    "collapsed": true
   },
   "outputs": [],
   "source": [
    "import matplotlib"
   ]
  },
  {
   "cell_type": "code",
   "execution_count": 2,
   "metadata": {
    "collapsed": true
   },
   "outputs": [],
   "source": [
    "matplotlib.use('Agg')"
   ]
  },
  {
   "cell_type": "code",
   "execution_count": 3,
   "metadata": {
    "collapsed": true
   },
   "outputs": [],
   "source": [
    "%matplotlib inline"
   ]
  },
  {
   "cell_type": "code",
   "execution_count": 4,
   "metadata": {
    "collapsed": true
   },
   "outputs": [],
   "source": [
    "import matplotlib.pyplot as plt"
   ]
  },
  {
   "cell_type": "code",
   "execution_count": 5,
   "metadata": {
    "collapsed": true
   },
   "outputs": [],
   "source": [
    "import numpy"
   ]
  },
  {
   "cell_type": "code",
   "execution_count": 1,
   "metadata": {
    "collapsed": true
   },
   "outputs": [],
   "source": [
    "import os"
   ]
  },
  {
   "cell_type": "code",
   "execution_count": 3,
   "metadata": {
    "collapsed": true
   },
   "outputs": [],
   "source": [
    "import pickle"
   ]
  },
  {
   "cell_type": "markdown",
   "metadata": {},
   "source": [
    "---"
   ]
  },
  {
   "cell_type": "markdown",
   "metadata": {},
   "source": [
    "# Extracting Interactions from BIOGRID\n",
    "\n",
    "**2015 November 30**\n",
    "\n",
    "Using BIOGRID v3.4.130"
   ]
  },
  {
   "cell_type": "code",
   "execution_count": 2,
   "metadata": {
    "collapsed": true
   },
   "outputs": [],
   "source": [
    "readPath = os.path.join('..', '..','DataDownload', 'BIOGRID', 'BIOGRID-ORGANISM-3.4.130.tab2', \n",
    "                        'BIOGRID-ORGANISM-Homo_sapiens-3.4.130.tab2.txt')"
   ]
  },
  {
   "cell_type": "code",
   "execution_count": 3,
   "metadata": {
    "collapsed": true
   },
   "outputs": [],
   "source": [
    "writePath = os.path.join('..', 'data', 'BIOGRID-3.4.130-human.txt')"
   ]
  },
  {
   "cell_type": "code",
   "execution_count": 4,
   "metadata": {
    "collapsed": false
   },
   "outputs": [],
   "source": [
    "colNum = open(readPath).readline().strip().split('\\t').index('Experimental System Type')"
   ]
  },
  {
   "cell_type": "code",
   "execution_count": 5,
   "metadata": {
    "collapsed": false
   },
   "outputs": [],
   "source": [
    "with open(writePath, 'w') as fid:\n",
    "    fid.writelines([line for line in open(readPath) if line.split('\\t')[colNum] == 'genetic'])"
   ]
  },
  {
   "cell_type": "markdown",
   "metadata": {},
   "source": [
    "## Breakdown of experimental evidence codes\n",
    "\n",
    "**2015 November 30**\n",
    "\n",
    "Using BIOGRID v3.4.130"
   ]
  },
  {
   "cell_type": "code",
   "execution_count": 6,
   "metadata": {
    "collapsed": true
   },
   "outputs": [],
   "source": [
    "typeCounts = dict()\n",
    "genes = set()\n",
    "colNum = 1  # using Entrez\n",
    "for line in open(os.path.join('..', 'data', 'BIOGRID-3.4.130-human.txt')):\n",
    "    tokens = line.split('\\t')\n",
    "    genes.update(tokens[colNum:colNum+2])\n",
    "    typeCounts[tokens[11]] = typeCounts.get(tokens[11], 0) + 1"
   ]
  },
  {
   "cell_type": "code",
   "execution_count": 7,
   "metadata": {
    "collapsed": false
   },
   "outputs": [
    {
     "data": {
      "text/plain": [
       "1467"
      ]
     },
     "execution_count": 7,
     "metadata": {},
     "output_type": "execute_result"
    }
   ],
   "source": [
    "len(genes)"
   ]
  },
  {
   "cell_type": "code",
   "execution_count": 8,
   "metadata": {
    "collapsed": false
   },
   "outputs": [
    {
     "data": {
      "text/plain": [
       "{'Dosage Growth Defect': 14,\n",
       " 'Dosage Lethality': 109,\n",
       " 'Dosage Rescue': 70,\n",
       " 'Negative Genetic': 2,\n",
       " 'Phenotypic Enhancement': 198,\n",
       " 'Phenotypic Suppression': 199,\n",
       " 'Synthetic Growth Defect': 465,\n",
       " 'Synthetic Lethality': 344,\n",
       " 'Synthetic Rescue': 129}"
      ]
     },
     "execution_count": 8,
     "metadata": {},
     "output_type": "execute_result"
    }
   ],
   "source": [
    "typeCounts"
   ]
  },
  {
   "cell_type": "markdown",
   "metadata": {},
   "source": [
    "---"
   ]
  },
  {
   "cell_type": "markdown",
   "metadata": {},
   "source": [
    "# Predictability in BIOGRID Interaction Types\n",
    "\n",
    "**2015 August 11**\n",
    "\n",
    "Using BIOGRID v3.4.127"
   ]
  },
  {
   "cell_type": "code",
   "execution_count": 6,
   "metadata": {
    "collapsed": true
   },
   "outputs": [],
   "source": [
    "os.chdir('/work/jyoung/genetic_interact/src')"
   ]
  },
  {
   "cell_type": "code",
   "execution_count": 18,
   "metadata": {
    "collapsed": false
   },
   "outputs": [
    {
     "name": "stdout",
     "output_type": "stream",
     "text": [
      "Number of genes in functional network: 18031\n",
      "Number of genes in interactions: 111\n",
      "Number of seed sets: 103\n"
     ]
    },
    {
     "data": {
      "image/png": "[encoded data removed]",
      "text/plain": [
       "<matplotlib.figure.Figure at 0x7f1f162fceb8>"
      ]
     },
     "metadata": {},
     "output_type": "display_data"
    }
   ],
   "source": [
    "%run func_net_pred 'Dosage Lethality'"
   ]
  },
  {
   "cell_type": "code",
   "execution_count": 20,
   "metadata": {
    "collapsed": false
   },
   "outputs": [
    {
     "name": "stdout",
     "output_type": "stream",
     "text": [
      "Number of genes in functional network: 18031\n",
      "Number of genes in interactions: 89\n",
      "Number of seed sets: 15\n"
     ]
    },
    {
     "data": {
      "image/png": "[encoded data removed]",
      "text/plain": [
       "<matplotlib.figure.Figure at 0x7f1f19419fd0>"
      ]
     },
     "metadata": {},
     "output_type": "display_data"
    }
   ],
   "source": [
    "%run func_net_pred 'Dosage Rescue'"
   ]
  },
  {
   "cell_type": "code",
   "execution_count": 21,
   "metadata": {
    "collapsed": false
   },
   "outputs": [
    {
     "name": "stdout",
     "output_type": "stream",
     "text": [
      "Number of genes in functional network: 18031\n",
      "Number of genes in interactions: 252\n",
      "Number of seed sets: 203\n"
     ]
    },
    {
     "data": {
      "image/png": "[encoded data removed]",
      "text/plain": [
       "<matplotlib.figure.Figure at 0x7f1f184a87f0>"
      ]
     },
     "metadata": {},
     "output_type": "display_data"
    }
   ],
   "source": [
    "%run func_net_pred 'Phenotypic Enhancement'"
   ]
  },
  {
   "cell_type": "code",
   "execution_count": 22,
   "metadata": {
    "collapsed": false
   },
   "outputs": [
    {
     "name": "stdout",
     "output_type": "stream",
     "text": [
      "Number of genes in functional network: 18031\n",
      "Number of genes in interactions: 249\n",
      "Number of seed sets: 182\n"
     ]
    },
    {
     "data": {
      "image/png": "[encoded data removed]",
      "text/plain": [
       "<matplotlib.figure.Figure at 0x7f1f184c8a20>"
      ]
     },
     "metadata": {},
     "output_type": "display_data"
    }
   ],
   "source": [
    "%run func_net_pred 'Phenotypic Suppression'"
   ]
  },
  {
   "cell_type": "code",
   "execution_count": 23,
   "metadata": {
    "collapsed": false
   },
   "outputs": [
    {
     "name": "stdout",
     "output_type": "stream",
     "text": [
      "Number of genes in functional network: 18031\n",
      "Number of genes in interactions: 152\n",
      "Number of seed sets: 16\n"
     ]
    },
    {
     "data": {
      "image/png": "[encoded data removed]",
      "text/plain": [
       "<matplotlib.figure.Figure at 0x7f1f1c07bf98>"
      ]
     },
     "metadata": {},
     "output_type": "display_data"
    }
   ],
   "source": [
    "%run func_net_pred 'Synthetic Growth Defect'"
   ]
  },
  {
   "cell_type": "code",
   "execution_count": 24,
   "metadata": {
    "collapsed": false
   },
   "outputs": [
    {
     "name": "stdout",
     "output_type": "stream",
     "text": [
      "Number of genes in functional network: 18031\n",
      "Number of genes in interactions: 138\n",
      "Number of seed sets: 16\n"
     ]
    },
    {
     "data": {
      "image/png": "[encoded data removed]",
      "text/plain": [
       "<matplotlib.figure.Figure at 0x7f1f190979b0>"
      ]
     },
     "metadata": {},
     "output_type": "display_data"
    }
   ],
   "source": [
    "%run func_net_pred 'Synthetic Rescue'"
   ]
  },
  {
   "cell_type": "markdown",
   "metadata": {},
   "source": [
    "---"
   ]
  },
  {
   "cell_type": "markdown",
   "metadata": {},
   "source": [
    "# Output Gene Names in Predictive Seed Sets\n",
    "\n",
    "**2015 August 11**\n",
    "\n",
    "Entrez IDs have been used for both the BIOGRID genetic interactions and HumanNet; conversion to gene symbols will be needed. Following the approach in the IPython notebook *Fly Genetic Interactions.ipynb*, use the R Bioconductor library *org.Hs.eg.db* (specifically *org.Hs.egSYMBOL*) to output a conversion table to text, which can be read and stored in Python. \n",
    "\n",
    "    > library(\"org.Hs.eg.db\")\n",
    "    > entrezIDs <- ls(org.Hs.egSYMBOL)\n",
    "    > length(entrezIDs)\n",
    "    [1] 56340\n",
    "    > entrezIDs[1:10]\n",
    "    [1] \"1\" \"2\" \"3\" \"9\" \"10\" \"11\" \"12\" \"13\" \"14\" \"15\"\n",
    "    > head(toTable(org.Hs.egSYMBOL[entrezIDs]))\n",
    "      gene_id symbol\n",
    "    1       1   A1BG\n",
    "    2       2    A2M\n",
    "    3       3  A2MP1\n",
    "    4       9   NAT1\n",
    "    5      10   NAT2\n",
    "    6      11   NATP\n",
    "    > conversTab <- toTable(org.Hs.egSYMBOL[entrezIDs])\n",
    "    > write.table(conversTab, file=\"/work/jyoung/DataProcessed/org.Hs.egSYMBOL.txt\",\n",
    "                  quote=FALSE, sep=\"\\t\", row.names=FALSE)\n",
    "\n",
    "Next, verify that the table has unique gene IDs and read this conversion table into a Python dictionary. "
   ]
  },
  {
   "cell_type": "code",
   "execution_count": 1,
   "metadata": {
    "collapsed": false
   },
   "outputs": [
    {
     "name": "stdout",
     "output_type": "stream",
     "text": [
      "gene_id\tsymbol\n",
      "1\tA1BG\n",
      "2\tA2M\n",
      "3\tA2MP1\n",
      "9\tNAT1\n"
     ]
    }
   ],
   "source": [
    "%%bash\n",
    "head -5 /work/jyoung/DataProcessed/org.Hs.egSYMBOL.txt"
   ]
  },
  {
   "cell_type": "code",
   "execution_count": 2,
   "metadata": {
    "collapsed": false
   },
   "outputs": [
    {
     "name": "stdout",
     "output_type": "stream",
     "text": [
      "56341\n"
     ]
    }
   ],
   "source": [
    "%%bash\n",
    "cut -f1 /work/jyoung/DataProcessed/org.Hs.egSYMBOL.txt | sort | uniq | wc -l"
   ]
  },
  {
   "cell_type": "code",
   "execution_count": 4,
   "metadata": {
    "collapsed": true
   },
   "outputs": [],
   "source": [
    "entrez2name = dict()\n",
    "fid = open('/work/jyoung/DataProcessed/org.Hs.egSYMBOL.txt')\n",
    "header = fid.readline()\n",
    "for line in fid:\n",
    "    tokens = line.strip().split('\\t')\n",
    "    entrez2name[tokens[0]] = tokens[1]\n",
    "fid.close()"
   ]
  },
  {
   "cell_type": "markdown",
   "metadata": {},
   "source": [
    "Now check whether all of the Entrez IDs in FlyNet are included in the conversion dictionary."
   ]
  },
  {
   "cell_type": "code",
   "execution_count": 5,
   "metadata": {
    "collapsed": true
   },
   "outputs": [],
   "source": [
    "allNetEntrez = set()\n",
    "for line in open('/work/jyoung/DataDownload/FunctionalNet/H6Net_CC.net'):\n",
    "    allNetEntrez.update(line.split('\\t')[:2])"
   ]
  },
  {
   "cell_type": "code",
   "execution_count": 6,
   "metadata": {
    "collapsed": false
   },
   "outputs": [
    {
     "data": {
      "text/plain": [
       "18031"
      ]
     },
     "execution_count": 6,
     "metadata": {},
     "output_type": "execute_result"
    }
   ],
   "source": [
    "len(allNetEntrez)"
   ]
  },
  {
   "cell_type": "code",
   "execution_count": 7,
   "metadata": {
    "collapsed": false
   },
   "outputs": [
    {
     "data": {
      "text/plain": [
       "0"
      ]
     },
     "execution_count": 7,
     "metadata": {},
     "output_type": "execute_result"
    }
   ],
   "source": [
    "len(allNetEntrez - set(entrez2name.keys()))"
   ]
  },
  {
   "cell_type": "code",
   "execution_count": 8,
   "metadata": {
    "collapsed": true
   },
   "outputs": [],
   "source": [
    "pickle.dump(entrez2name, open('/work/jyoung/PyPickle/humanEntrez2names.p', 'wb'))"
   ]
  },
  {
   "cell_type": "markdown",
   "metadata": {},
   "source": [
    "**2015 August 12**\n",
    "\n",
    "Finally, write out the predictive seed sets."
   ]
  },
  {
   "cell_type": "code",
   "execution_count": 5,
   "metadata": {
    "collapsed": false
   },
   "outputs": [
    {
     "name": "stdout",
     "output_type": "stream",
     "text": [
      "Number of genes in functional network: 18031\n",
      "Number of genes in interactions: 89\n",
      "Number of seed sets: 15\n"
     ]
    }
   ],
   "source": [
    "%run func_net_pred 'Dosage Rescue'"
   ]
  },
  {
   "cell_type": "code",
   "execution_count": 6,
   "metadata": {
    "collapsed": false
   },
   "outputs": [
    {
     "name": "stdout",
     "output_type": "stream",
     "text": [
      "Number of genes in functional network: 18031\n",
      "Number of genes in interactions: 252\n",
      "Number of seed sets: 203\n"
     ]
    }
   ],
   "source": [
    "%run func_net_pred 'Phenotypic Enhancement'"
   ]
  },
  {
   "cell_type": "code",
   "execution_count": 7,
   "metadata": {
    "collapsed": false
   },
   "outputs": [
    {
     "name": "stdout",
     "output_type": "stream",
     "text": [
      "Number of genes in functional network: 18031\n",
      "Number of genes in interactions: 249\n",
      "Number of seed sets: 182\n"
     ]
    }
   ],
   "source": [
    "%run func_net_pred 'Phenotypic Suppression'"
   ]
  },
  {
   "cell_type": "code",
   "execution_count": 8,
   "metadata": {
    "collapsed": false
   },
   "outputs": [
    {
     "name": "stdout",
     "output_type": "stream",
     "text": [
      "Number of genes in functional network: 18031\n",
      "Number of genes in interactions: 152\n",
      "Number of seed sets: 16\n"
     ]
    }
   ],
   "source": [
    "%run func_net_pred 'Synthetic Growth Defect'"
   ]
  },
  {
   "cell_type": "code",
   "execution_count": 9,
   "metadata": {
    "collapsed": false
   },
   "outputs": [
    {
     "name": "stdout",
     "output_type": "stream",
     "text": [
      "Number of genes in functional network: 18031\n",
      "Number of genes in interactions: 138\n",
      "Number of seed sets: 16\n"
     ]
    }
   ],
   "source": [
    "%run func_net_pred 'Synthetic Rescue'"
   ]
  },
  {
   "cell_type": "markdown",
   "metadata": {
    "collapsed": true
   },
   "source": [
    "**2015 September 22, 24, 28**\n",
    "\n",
    "Compare using HumanNet version 2 vs version 1 by plotting the seed set AUCs of version 2 against version 1 for each genetic interaction type. Create a script named *compare_func_net_versions.py* for this purpose.\n",
    "\n",
    "NOTE: *func_net_pred.py* now accepts 2 command line arguments, the BIOGRID interaction type and the organism. The modified code reduces hard-coded filenames inside individual functions. \n",
    "\n",
    "**2015 September 24, 28**\n",
    "\n",
    "The function *process_func_net( )* assumes that the genes are in columns 1 & 2 and the LLS is in column 3, as it seems must functional networks are in this format. However, HumanNet v1 has the LLS in column 24, so write a new HumanNet v1 file that only has 3 columns with the LLS in column 3:\n",
    "\n",
    "    cd /work/jyoung/DataDownload/FunctionalNet\n",
    "    awk '{print $1 \"\\t\" $2 \"\\t\" $24}' HumanNet.v1.join.txt > humannet1.entrez.txt\n"
   ]
  },
  {
   "cell_type": "code",
   "execution_count": 7,
   "metadata": {
    "collapsed": false
   },
   "outputs": [
    {
     "name": "stdout",
     "output_type": "stream",
     "text": [
      "Number of genes in interactions: 252\n"
     ]
    },
    {
     "data": {
      "image/png": "[encoded data removed]",
      "text/plain": [
       "<matplotlib.figure.Figure at 0x7f6c9960f7f0>"
      ]
     },
     "metadata": {},
     "output_type": "display_data"
    }
   ],
   "source": [
    "%run compare_func_net_versions.py 'Phenotypic Enhancement' 1 2"
   ]
  },
  {
   "cell_type": "code",
   "execution_count": 8,
   "metadata": {
    "collapsed": false
   },
   "outputs": [
    {
     "name": "stdout",
     "output_type": "stream",
     "text": [
      "Number of genes in interactions: 249\n"
     ]
    },
    {
     "data": {
      "image/png": "[encoded data removed]",
      "text/plain": [
       "<matplotlib.figure.Figure at 0x7f6c98b51390>"
      ]
     },
     "metadata": {},
     "output_type": "display_data"
    }
   ],
   "source": [
    "%run compare_func_net_versions.py 'Phenotypic Suppression' 1 2"
   ]
  },
  {
   "cell_type": "markdown",
   "metadata": {
    "collapsed": true
   },
   "source": [
    "**2015 November 29-30**\n",
    "\n",
    "Updated *proteincomplexformat.py* to process downloaded CORUM file into a 2-column format. Unfortunately, it will not be possible to directly process the CORUM file into Entrez IDs. See *Gene ID Conversion.ipynb* for details. 2-column format written by *proteincomplexformat.py* as *CORUM_Human_Entrez.txt*. \n",
    "\n",
    "Using *clust_intact.py* at 5% FDR by Benjamini-Hochberg, there were no significant within-complex interactions of out 1618 protein complexes. The background probabilities were: 0.117 (Dosage Growth Defect), 0.0177 (Dosage Lethality), 0.0159 (Dosage Rescue), 0.667 (Negative Genetic), 0.00609 (Phenotypic Enhancement), 0.00671 (Phenotypic Suppression), 0.00453 (Synthetic Growth Defect), 0.00580 (Synthetic Lethality), 0.0119 (Synthetic Rescue).  \n",
    "\n",
    "For between-complex interactions, there was also no significance from examining 1308153 complex pairs for each interaction type. "
   ]
  },
  {
   "cell_type": "code",
   "execution_count": null,
   "metadata": {
    "collapsed": true
   },
   "outputs": [],
   "source": []
  }
 ],
 "metadata": {
  "kernelspec": {
   "display_name": "Python 3",
   "language": "python",
   "name": "python3"
  },
  "language_info": {
   "codemirror_mode": {
    "name": "ipython",
    "version": 3
   },
   "file_extension": ".py",
   "mimetype": "text/x-python",
   "name": "python",
   "nbconvert_exporter": "python",
   "pygments_lexer": "ipython3",
   "version": "3.4.3"
  }
 },
 "nbformat": 4,
 "nbformat_minor": 0
}
